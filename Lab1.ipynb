{
  "cells": [
    {
      "cell_type": "markdown",
      "id": "fifteen-sailing",
      "metadata": {
        "id": "fifteen-sailing"
      },
      "source": [
        "# Лабораторная работа №1\n",
        "## Выполнил студент группы БСТ2105 Мурашова В.А."
      ]
    },
    {
      "cell_type": "markdown",
      "id": "particular-syndicate",
      "metadata": {
        "id": "particular-syndicate"
      },
      "source": [
        "### Оглавление\n",
        "1. [Задание 1](#Задание-№1)\n",
        "2. [Задание 2](#Задание-№2)\n",
        "3. [Задание 3](#Задание-№3)\n",
        "4. [Вывод](#Вывод)"
      ]
    },
    {
      "cell_type": "markdown",
      "id": "arctic-stocks",
      "metadata": {
        "id": "arctic-stocks"
      },
      "source": [
        "### Задание №1\n",
        "<i> Вызвать функцию print() и передать туда строку Hello, World! </i>"
      ]
    },
    {
      "cell_type": "code",
      "execution_count": null,
      "id": "caring-truck",
      "metadata": {
        "scrolled": true,
        "id": "caring-truck",
        "colab": {
          "base_uri": "https://localhost:8080/"
        },
        "outputId": "289f18ff-b1d4-4346-88cd-062a1650d892"
      },
      "outputs": [
        {
          "output_type": "stream",
          "name": "stdout",
          "text": [
            "Hello, World!\n"
          ]
        }
      ],
      "source": [
        "print(\"Hello, World!\")"
      ]
    },
    {
      "cell_type": "markdown",
      "id": "maritime-conversation",
      "metadata": {
        "id": "maritime-conversation"
      },
      "source": [
        "### Задание №2\n",
        "Написать генератор случайных матриц(многомерных), который принимает\n",
        "опциональные параметры <b>m</b>, <b>n</b>, <b>min_limit</b>, <b>max_limit</b>, где <b>m</b> и <b>n</b> указывают размер\n",
        "матрицы, а <b>min_lim</b> и <b>max_lim</b> - минимальное и максимальное значение для\n",
        "генерируемого числа."
      ]
    },
    {
      "cell_type": "code",
      "execution_count": null,
      "id": "built-contact",
      "metadata": {
        "id": "built-contact"
      },
      "outputs": [],
      "source": [
        "import random\n",
        "import time"
      ]
    },
    {
      "cell_type": "code",
      "execution_count": null,
      "id": "alert-charm",
      "metadata": {
        "id": "alert-charm",
        "outputId": "72c62605-8a6b-4acd-8a8a-5eb3dd9ac55d",
        "colab": {
          "base_uri": "https://localhost:8080/"
        }
      },
      "outputs": [
        {
          "output_type": "stream",
          "name": "stdout",
          "text": [
            "10\n",
            "10\n",
            "0\n",
            "100\n",
            "[77, 65, 50, 1, 6, 31, 0, 24, 34, 3]\n",
            "[82, 0, 58, 66, 67, 5, 82, 8, 29, 85]\n",
            "[30, 47, 80, 97, 85, 88, 35, 32, 57, 39]\n",
            "[82, 44, 48, 99, 8, 42, 9, 29, 31, 18]\n",
            "[65, 43, 10, 92, 60, 2, 96, 15, 38, 51]\n",
            "[17, 74, 48, 30, 50, 6, 10, 97, 83, 35]\n",
            "[29, 51, 42, 49, 6, 60, 94, 41, 16, 65]\n",
            "[67, 46, 68, 73, 69, 97, 12, 92, 24, 67]\n",
            "[56, 39, 74, 39, 51, 0, 39, 63, 42, 46]\n",
            "[12, 8, 52, 49, 23, 78, 21, 53, 54, 37]\n"
          ]
        }
      ],
      "source": [
        "m = int(input())\n",
        "n = int(input())\n",
        "min_lim = int(input())\n",
        "max_lim = int(input())\n",
        "def generateMatrix(m, n):\n",
        "    arrayDvum = []\n",
        "    for i in range(m):\n",
        "        array=[]\n",
        "        for j in range(n):\n",
        "            array.append(random.randint(min_lim, max_lim))\n",
        "        arrayDvum.append(array)\n",
        "    return (arrayDvum)\n",
        "matrix = generateMatrix(m, n)\n",
        "for row in matrix:\n",
        "  print(row)"
      ]
    },
    {
      "cell_type": "markdown",
      "id": "catholic-roots",
      "metadata": {
        "id": "catholic-roots"
      },
      "source": [
        "### Задание №3\n",
        "Реализовать методы сортировки строк числовой матрицы в соответствии с\n",
        "заданием. Оценить время работы каждого алгоритма сортировки и сравнить его со\n",
        "временем стандартной функции сортировки. Испытания проводить на сгенерированных\n",
        "матрицах."
      ]
    },
    {
      "cell_type": "code",
      "execution_count": null,
      "id": "opposed-creature",
      "metadata": {
        "id": "opposed-creature"
      },
      "outputs": [],
      "source": [
        "import copy"
      ]
    },
    {
      "cell_type": "code",
      "execution_count": 61,
      "id": "cleared-anniversary",
      "metadata": {
        "id": "cleared-anniversary",
        "outputId": "00de604d-7c3d-4a83-8d3d-d0cb92effadd",
        "colab": {
          "base_uri": "https://localhost:8080/"
        }
      },
      "outputs": [
        {
          "output_type": "stream",
          "name": "stdout",
          "text": [
            "[0, 1, 3, 6, 24, 31, 34, 50, 65, 77]\n",
            "[0, 5, 8, 29, 58, 66, 67, 82, 82, 85]\n",
            "[0, 39, 39, 39, 42, 46, 51, 56, 63, 74]\n",
            "[2, 10, 15, 38, 43, 51, 60, 65, 92, 96]\n",
            "[6, 10, 17, 30, 35, 48, 50, 74, 83, 97]\n",
            "[6, 16, 29, 41, 42, 49, 51, 60, 65, 94]\n",
            "[8, 9, 18, 29, 31, 42, 44, 48, 82, 99]\n",
            "[8, 12, 21, 23, 37, 49, 52, 53, 54, 78]\n",
            "[12, 24, 46, 67, 67, 68, 69, 73, 92, 97]\n",
            "[30, 32, 35, 39, 47, 57, 80, 85, 88, 97]\n",
            "--- 5 ms ---\n"
          ]
        }
      ],
      "source": [
        "from typing import MutableMapping\n",
        "\n",
        "# Сортировка выбором.\n",
        "# Берётся срез массива, в котором минимальный элемент переносят в самый левый угол,\n",
        "# после чего срез уменьшается и цикл повторяется.\n",
        "\n",
        "startTime = time.time()\n",
        "mainArray = copy.copy(matrix)\n",
        "#TODO\n",
        "def selectionSort(mainArray):        \n",
        "    for i in range(len(mainArray)):\n",
        "        min = i\n",
        "        \n",
        "        for j in range(i + 1, len(mainArray)):\n",
        "            if mainArray[j] < mainArray[min]:\n",
        "                min = j\n",
        "\n",
        "        mainArray[min], mainArray[i] = mainArray[i], mainArray[min]\n",
        "            \n",
        "    return mainArray\n",
        "\n",
        "for row in range(len(mainArray)):\n",
        "  selectionSort(mainArray[row])\n",
        "\n",
        "selectionSort(mainArray)\n",
        "\n",
        "for row in mainArray:\n",
        "  print(row) \n",
        "print(\"--- {0} ms ---\".format(round((time.time() - startTime)*1000)))"
      ]
    },
    {
      "cell_type": "code",
      "execution_count": 62,
      "id": "roman-silly",
      "metadata": {
        "scrolled": true,
        "id": "roman-silly",
        "outputId": "c20e97a6-241f-4ceb-e2b2-11c91a925548",
        "colab": {
          "base_uri": "https://localhost:8080/"
        }
      },
      "outputs": [
        {
          "output_type": "stream",
          "name": "stdout",
          "text": [
            "[0, 1, 3, 6, 24, 31, 34, 50, 65, 77]\n",
            "[0, 5, 8, 29, 58, 66, 67, 82, 82, 85]\n",
            "[30, 32, 35, 39, 47, 57, 80, 85, 88, 97]\n",
            "[8, 9, 18, 29, 31, 42, 44, 48, 82, 99]\n",
            "[2, 10, 15, 38, 43, 51, 60, 65, 92, 96]\n",
            "[6, 10, 17, 30, 35, 48, 50, 74, 83, 97]\n",
            "[6, 16, 29, 41, 42, 49, 51, 60, 65, 94]\n",
            "[12, 24, 46, 67, 67, 68, 69, 73, 92, 97]\n",
            "[0, 39, 39, 39, 42, 46, 51, 56, 63, 74]\n",
            "[8, 12, 21, 23, 37, 49, 52, 53, 54, 78]\n",
            "--- 7 ms ---\n"
          ]
        }
      ],
      "source": [
        "# Сортировка вставкой. Алгоритм делит список на две части, вставляя элементы на их правильные места \n",
        "# во вторую часть списка, убирая их из первой. Если второй элемент больше первого, то оставляем его на своем месте. \n",
        "# Если он меньше, то вставляем его на второе место, оставив первый элемент на первом месте. \n",
        "# Далее перемещаем большие элементы во второй части списка вверх, пока не встретим элемент меньше первого или не дойдем до конца списка.\n",
        "startTime = time.time()\n",
        "mainArray = copy.copy(matrix)\n",
        "#TODO\n",
        "def insertionSort(mainArray):\n",
        "        \n",
        "    for i in range(len(mainArray)):\n",
        "        cursor = mainArray[i]\n",
        "        position = i\n",
        "        \n",
        "        while position > 0 and mainArray[position - 1] > cursor:\n",
        "            mainArray[position] = mainArray[position - 1]\n",
        "            position -= 1\n",
        "        mainArray[position] = cursor\n",
        "\n",
        "    return mainArray\n",
        "\n",
        "for row in mainArray:\n",
        "  print(row) \n",
        "print(\"--- {0} ms ---\".format(round((time.time() - startTime)*1000)))"
      ]
    },
    {
      "cell_type": "code",
      "execution_count": 63,
      "id": "vital-implementation",
      "metadata": {
        "id": "vital-implementation",
        "outputId": "f7fa368a-4b49-4181-dbe9-b746b56a6423",
        "colab": {
          "base_uri": "https://localhost:8080/"
        }
      },
      "outputs": [
        {
          "output_type": "stream",
          "name": "stdout",
          "text": [
            "[0, 1, 3, 6, 24, 31, 34, 50, 65, 77]\n",
            "[0, 5, 8, 29, 58, 66, 67, 82, 82, 85]\n",
            "[30, 32, 35, 39, 47, 57, 80, 85, 88, 97]\n",
            "[8, 9, 18, 29, 31, 42, 44, 48, 82, 99]\n",
            "[2, 10, 15, 38, 43, 51, 60, 65, 92, 96]\n",
            "[6, 10, 17, 30, 35, 48, 50, 74, 83, 97]\n",
            "[6, 16, 29, 41, 42, 49, 51, 60, 65, 94]\n",
            "[12, 24, 46, 67, 67, 68, 69, 73, 92, 97]\n",
            "[0, 39, 39, 39, 42, 46, 51, 56, 63, 74]\n",
            "[8, 12, 21, 23, 37, 49, 52, 53, 54, 78]\n",
            "--- 5 ms ---\n"
          ]
        }
      ],
      "source": [
        "# Сортировка обменом. || Сортировка пузырьком.\n",
        "# Алгоритм попарно сравнивает элементы списка, меняя их местами, если это требуется. \n",
        "# Сравниваются первые два элемента. Если первый элемент больше, то они меняются местами. \n",
        "# Далее происходит все то же самое, но со следующими элементами до последней пары элементов в списке. \n",
        "startTime = time.time()\n",
        "mainArray = copy.copy(matrix)\n",
        "#TODO\n",
        "def bubbleSort(mainArray):\n",
        "  changed = True\n",
        "  while changed:\n",
        "        changed = False\n",
        "        for i in range(len(mainArray) - 1):\n",
        "            if mainArray[i] > mainArray[i+1]:\n",
        "                mainArray[i], mainArray[i+1] = mainArray[i+1], mainArray[i]\n",
        "                changed = True\n",
        "  return mainArray\n",
        "\n",
        "for row in range(len(mainArray)):\n",
        "     bubbleSort(mainArray[row]) \n",
        "     \n",
        "for row in mainArray:\n",
        "  print(row)       \n",
        "print(\"--- {0} ms ---\".format(round((time.time() - startTime)*1000)))"
      ]
    },
    {
      "cell_type": "code",
      "execution_count": 60,
      "id": "veterinary-glory",
      "metadata": {
        "id": "veterinary-glory",
        "outputId": "25d87f6c-3096-430d-f190-72f265504cb1",
        "colab": {
          "base_uri": "https://localhost:8080/"
        }
      },
      "outputs": [
        {
          "output_type": "stream",
          "name": "stdout",
          "text": [
            "[0, 1, 3, 6, 24, 31, 34, 50, 65, 77]\n",
            "[0, 5, 8, 29, 58, 66, 67, 82, 82, 85]\n",
            "[30, 32, 35, 39, 47, 57, 80, 85, 88, 97]\n",
            "[8, 9, 18, 29, 31, 42, 44, 48, 82, 99]\n",
            "[2, 10, 15, 38, 43, 51, 60, 65, 92, 96]\n",
            "[6, 10, 17, 30, 35, 48, 50, 74, 83, 97]\n",
            "[6, 16, 29, 41, 42, 49, 51, 60, 65, 94]\n",
            "[12, 24, 46, 67, 67, 68, 69, 73, 92, 97]\n",
            "[0, 39, 39, 39, 42, 46, 51, 56, 63, 74]\n",
            "[8, 12, 21, 23, 37, 49, 52, 53, 54, 78]\n",
            "--- 8 ms ---\n"
          ]
        }
      ],
      "source": [
        "# Сортировка Шелла.\n",
        "# Шаг 0. i=t\n",
        "# Шаг 1. Разобьем массив на списки элементов, отстающих друг от друга на Hi. Таких списков будет Hi\n",
        "# Шаг 2. Отсортируем элементы каждого списка сортировкой вставками.\n",
        "# Шаг 3. Объединим списки обратно в массив. Уменьшим i. Если i неотрицательно — вернемся к шагу 1\n",
        "startTime = time.time()\n",
        "mainArray = copy.copy(matrix)\n",
        "#TODO\n",
        "def shellSort(mainArray):\n",
        "    gap = len(mainArray) // 2\n",
        "    while gap > 0:\n",
        "        for value in range(gap, len(mainArray)):\n",
        "            currentValue = mainArray[value]\n",
        "            position = value\n",
        "\n",
        "            while position >= gap and mainArray[position - gap] > currentValue:\n",
        "                mainArray[position] = mainArray[position - gap]\n",
        "                position -= gap\n",
        "                mainArray[position] = currentValue\n",
        "\n",
        "        gap //= 2\n",
        "    return mainArray\n",
        "\n",
        "for row in range(len(mainArray)):\n",
        "     shellSort(mainArray[row])\n",
        "\n",
        "for row in mainArray:\n",
        "  print(row) \n",
        "print(\"--- {0} ms ---\".format(round((time.time() - startTime)*1000)))"
      ]
    },
    {
      "cell_type": "code",
      "execution_count": 64,
      "id": "correct-chaos",
      "metadata": {
        "id": "correct-chaos",
        "outputId": "a24736a9-1727-4599-f365-64592f225555",
        "colab": {
          "base_uri": "https://localhost:8080/"
        }
      },
      "outputs": [
        {
          "output_type": "stream",
          "name": "stdout",
          "text": [
            "[0, 1, 3, 6, 24, 31, 34, 50, 65, 77]\n",
            "[0, 5, 8, 29, 58, 66, 67, 82, 82, 85]\n",
            "[30, 32, 35, 39, 47, 57, 80, 85, 88, 97]\n",
            "[8, 9, 18, 29, 31, 42, 44, 48, 82, 99]\n",
            "[2, 10, 15, 38, 43, 51, 60, 65, 92, 96]\n",
            "[6, 10, 17, 30, 35, 48, 50, 74, 83, 97]\n",
            "[6, 16, 29, 41, 42, 49, 51, 60, 65, 94]\n",
            "[12, 24, 46, 67, 67, 68, 69, 73, 92, 97]\n",
            "[0, 39, 39, 39, 42, 46, 51, 56, 63, 74]\n",
            "[8, 12, 21, 23, 37, 49, 52, 53, 54, 78]\n",
            "--- 1 ms ---\n"
          ]
        }
      ],
      "source": [
        "# Быстрая сортировка.\n",
        "startTime = time.time()\n",
        "mainArray = copy.copy(matrix)\n",
        "#TODO\n",
        "def quickSort(mainArray):\n",
        "    if len(mainArray) <= 1:\n",
        "      return mainArray\n",
        "\n",
        "    greater = []\n",
        "    equal = []\n",
        "    lesser = []\n",
        "    for i in range(len(mainArray)):\n",
        "      if mainArray[i] == mainArray[0]:\n",
        "        equal.append(mainArray[i])\n",
        "      elif mainArray[i] > mainArray[0]:\n",
        "        greater.append(mainArray[i])\n",
        "      else:\n",
        "        lesser.append(mainArray[i])\n",
        "    return quickSort(lesser) + equal + quickSort(greater)\n",
        "\n",
        "\n",
        "for row in range(len(mainArray)):\n",
        "     quickSort(mainArray[row])\n",
        "\n",
        "for row in mainArray:\n",
        "  print(row) \n",
        "print(\"--- {0} ms ---\".format(round((time.time() - startTime)*1000)))\n",
        "    "
      ]
    },
    {
      "cell_type": "code",
      "execution_count": 65,
      "id": "french-czech",
      "metadata": {
        "colab": {
          "base_uri": "https://localhost:8080/"
        },
        "id": "french-czech",
        "outputId": "bc960f41-618e-4aed-c3fd-57a33a6a78aa"
      },
      "outputs": [
        {
          "output_type": "stream",
          "name": "stdout",
          "text": [
            "[0, 1, 3, 6, 24, 31, 34, 50, 65, 77]\n",
            "[0, 5, 8, 29, 58, 66, 67, 82, 82, 85]\n",
            "[30, 32, 35, 39, 47, 57, 80, 85, 88, 97]\n",
            "[8, 9, 18, 29, 31, 42, 44, 48, 82, 99]\n",
            "[2, 10, 15, 38, 43, 51, 60, 65, 92, 96]\n",
            "[6, 10, 17, 30, 35, 48, 50, 74, 83, 97]\n",
            "[6, 16, 29, 41, 42, 49, 51, 60, 65, 94]\n",
            "[12, 24, 46, 67, 67, 68, 69, 73, 92, 97]\n",
            "[0, 39, 39, 39, 42, 46, 51, 56, 63, 74]\n",
            "[8, 12, 21, 23, 37, 49, 52, 53, 54, 78]\n",
            "--- 7 ms ---\n"
          ]
        }
      ],
      "source": [
        "# Турнирная сортировка.\n",
        "# Преобразуем список в бинарное дерево, где самый большой элемент является вершиной дерева, и помещаем этот элемент в конец списка. \n",
        "# После перестраиваем дерево и помещаем новый наибольший элемент перед последним элементом в списке. \n",
        "# Повторяем этот алгоритм, пока все вершины дерева не будут удалены. \n",
        "startTime = time.time()\n",
        "mainArray = copy.copy(matrix)\n",
        "#TODO\n",
        "def heapify(mainArray, n, i):\n",
        "  max = i\n",
        "  left = 2*i+1\n",
        "  right = 2*i+2\n",
        "  if left < n and mainArray[i] < mainArray[left]:\n",
        "    max = left\n",
        "  if right < n and mainArray[max] < mainArray[right]:\n",
        "    max = right\n",
        "  \n",
        "  if max != i:\n",
        "    mainArray[i], mainArray[max] = mainArray[max], mainArray[i]\n",
        "    heapify(mainArray, n, max)\n",
        "\n",
        "  return(heapify(mainArray, len(mainArray), i))\n",
        "\n",
        "  for i in range(len(mainArray)-1, 0, -1):\n",
        "    mainArray[i], mainArray[0] = mainArray[0], mainArray[i]\n",
        "    heapify(mainArray, i, 0)\n",
        "\n",
        "for row in mainArray:\n",
        "  print(row) \n",
        "print(\"--- {0} ms ---\".format(round((time.time() - startTime)*1000)))"
      ]
    },
    {
      "cell_type": "markdown",
      "id": "rental-jerusalem",
      "metadata": {
        "id": "rental-jerusalem"
      },
      "source": [
        "### Вывод\n"
      ]
    },
    {
      "cell_type": "markdown",
      "id": "9d108a0a",
      "metadata": {
        "id": "9d108a0a"
      },
      "source": [
        "Научились работать с овновами языка программирования Python, познакомились с функцией print(), научились генерировать матрицы, а так же познакомились с различными методами сортировки. Ссылка на репозиторий GitHub:"
      ]
    }
  ],
  "metadata": {
    "kernelspec": {
      "display_name": "Python 3 (ipykernel)",
      "language": "python",
      "name": "python3"
    },
    "language_info": {
      "codemirror_mode": {
        "name": "ipython",
        "version": 3
      },
      "file_extension": ".py",
      "mimetype": "text/x-python",
      "name": "python",
      "nbconvert_exporter": "python",
      "pygments_lexer": "ipython3",
      "version": "3.10.2"
    },
    "colab": {
      "provenance": []
    }
  },
  "nbformat": 4,
  "nbformat_minor": 5
}