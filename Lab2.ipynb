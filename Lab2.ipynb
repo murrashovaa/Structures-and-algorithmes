{
  "cells": [
    {
      "cell_type": "markdown",
      "metadata": {
        "id": "view-in-github",
        "colab_type": "text"
      },
      "source": [
        "<a href=\"https://colab.research.google.com/github/murrashovaa/Structures-and-algorithmes/blob/main/Lab2.ipynb\" target=\"_parent\"><img src=\"https://colab.research.google.com/assets/colab-badge.svg\" alt=\"Open In Colab\"/></a>"
      ]
    },
    {
      "cell_type": "markdown",
      "id": "fifteen-sailing",
      "metadata": {
        "id": "fifteen-sailing"
      },
      "source": [
        "# Лабораторная работа №2\n",
        "## Выполнила студентка группы БСТ2105 Мурашова В.А."
      ]
    },
    {
      "cell_type": "markdown",
      "id": "arctic-stocks",
      "metadata": {
        "id": "arctic-stocks"
      },
      "source": [
        "Реализовать следующие структуры данных:\n",
        "  \n",
        "● <b> Стек (stack): </b>  \n",
        "Операции для стека: \n",
        "<i> инициализация, проверка на пустоту, добавление нового элемента в начало, извлечение элемента из начала;  </i>  \n",
        "  \n",
        "● <b> Дек (двусторонняя очередь, deque):  </b>  \n",
        "Операции для дека: \n",
        "<i> инициализация, проверка на пустоту, добавление нового элемента в начало, добавление нового элемента в конец, извлечение элемента из начала, извлечение элемента из конца. </i>  \n",
        "  \n",
        "<i> Разработать программу обработки данных, содержащихся в заранее подготовленном txt-файле, в соответствии с заданиями, применив указанную в задании структуру данных. Результат работы программы вывести на экран и сохранить в отдельном txt-файле. </i>"
      ]
    },
    {
      "cell_type": "markdown",
      "id": "5d7edb08",
      "metadata": {
        "scrolled": true,
        "id": "5d7edb08"
      },
      "source": [
        "### Задание №1\n",
        "Отсортировать строки файла, содержащие названия книг, в алфавитном порядке с использованием двух деков."
      ]
    },
    {
      "cell_type": "code",
      "execution_count": null,
      "id": "17702ade",
      "metadata": {
        "id": "17702ade"
      },
      "outputs": [],
      "source": [
        "from collections import deque"
      ]
    },
    {
      "cell_type": "code",
      "source": [
        "deq1, deq2 = deque(), deque()\n",
        "with open('task1.txt', 'r', encoding = 'utf-8') as readfile:\n",
        "  for book in readfile:\n",
        "    deq1.append(book)\n",
        "\n",
        "print(\"Исходный файл:\\n\", *deq1)  \n",
        "\n",
        "while len(deq1) != 0:\n",
        "  x = deq1.pop()\n",
        "  while len(deq2) != 0 and deq2[-1] > x:\n",
        "    deq1.appendleft(deq2.pop())\n",
        "  deq2.append(x)\n",
        "\n",
        "print(\"\\nОтсортированный файл:\\n\", *deq2)\n",
        "\n",
        "with open('sortedtask1.txt', 'w', encoding = 'utf-8') as writefile:\n",
        "  for sortedBook in deq2:\n",
        "      writefile.write(sortedBook)"
      ],
      "metadata": {
        "colab": {
          "base_uri": "https://localhost:8080/"
        },
        "id": "aNdruCQlSNLS",
        "outputId": "990caae3-8481-44d7-94fc-300ff60c90b3"
      },
      "id": "aNdruCQlSNLS",
      "execution_count": null,
      "outputs": [
        {
          "output_type": "stream",
          "name": "stdout",
          "text": [
            "Исходный файл:\n",
            " Унесенные ветром\n",
            " Бумажные города\n",
            " Виноваты звезды\n",
            " Вино из одуванчиков\n",
            " Лолита\n",
            " Мастер и Маргарита \n",
            " Портрет Дориана Грея \n",
            "\n",
            "\n",
            "Отсортированный файл:\n",
            " Бумажные города\n",
            " Вино из одуванчиков\n",
            " Виноваты звезды\n",
            " Лолита\n",
            " Мастер и Маргарита \n",
            " Портрет Дориана Грея \n",
            " Унесенные ветром\n",
            "\n"
          ]
        }
      ]
    },
    {
      "cell_type": "markdown",
      "id": "49fbd2a0",
      "metadata": {
        "id": "49fbd2a0"
      },
      "source": [
        "### Задание №2\n",
        "Дек содержит последовательность символов для шифровки сообщений. Дан текстовый файл, содержащий зашифрованное сообщение. Пользуясь деком, расшифровать текст. \n",
        "Известно, что при шифровке каждый символ сообщения заменялся следующим за ним в деке по часовой стрелке через один."
      ]
    },
    {
      "cell_type": "code",
      "execution_count": null,
      "id": "81cab7a8",
      "metadata": {
        "id": "81cab7a8",
        "colab": {
          "base_uri": "https://localhost:8080/"
        },
        "outputId": "876688c9-f6f2-4359-dcca-e696497a700a"
      },
      "outputs": [
        {
          "output_type": "stream",
          "name": "stdout",
          "text": [
            "Зашифрованное сообщение: опж рщжпю птвдкфуб стретвооктрдвфю пв скфрпж\n",
            "Расшифрованное сообщение: мне очень нравится программировать на питоне\n"
          ]
        }
      ],
      "source": [
        "alphabet = list('абвгдеёжзийклмнопрстуфхцчшщъыьэюя')\n",
        "message, code = deque(), deque()\n",
        "key = 2\n",
        "\n",
        "for i in range(len(alphabet)):\n",
        "    code.append(alphabet[(i + key) % len(alphabet)])\n",
        "    \n",
        "codedMessade = open('task2.txt', 'r', encoding = 'utf-8')\n",
        "with codedMessade as readfile:\n",
        "    string = readfile.readline().lower()\n",
        "    for char in string:\n",
        "        if char != \"\\n\":\n",
        "            message.append(char)\n",
        "            \n",
        "print(\"Зашифрованное сообщение: \", *message, sep = \"\")\n",
        "\n",
        "result = \"\"\n",
        "for char in message:\n",
        "    if char in alphabet:\n",
        "        result += alphabet[code.index(char)]\n",
        "    else:\n",
        "        result += char\n",
        "    \n",
        "print(\"Расшифрованное сообщение:\", result)\n",
        "\n",
        "decodedMessage = open('decodedtask2.txt', 'w', encoding = 'utf-8')\n",
        "with decodedMessage as writefile:\n",
        "    writefile.write(result)"
      ]
    },
    {
      "cell_type": "markdown",
      "id": "c0894f47",
      "metadata": {
        "id": "c0894f47"
      },
      "source": [
        "### Задание №3\n",
        "Даны три стержня и n дисков различного размера. Диски можно надевать на стержни, образуя из них башни. Перенести n дисков со стержня А на стержень С, сохранив их первоначальный порядок. При переносе дисков необходимо соблюдать следующие правила:\n",
        "- на каждом шаге со стержня на стержень переносить только один диск;\n",
        "- диск нельзя помещать на диск меньшего размера;\n",
        "- для промежуточного хранения можно использовать стержень В.\n",
        "Реализовать алгоритм, используя три стека вместо стержней А, В, С. Информация о дисках хранится в исходном файле."
      ]
    },
    {
      "cell_type": "code",
      "execution_count": null,
      "id": "9e91a9d4",
      "metadata": {
        "id": "9e91a9d4",
        "colab": {
          "base_uri": "https://localhost:8080/"
        },
        "outputId": "c2686655-a3d0-4adc-ff05-ace667473ffb"
      },
      "outputs": [
        {
          "output_type": "stream",
          "name": "stdout",
          "text": [
            "Количество дисков = 5\n",
            "[] [] [5, 4, 3, 2, 1]\n"
          ]
        }
      ],
      "source": [
        "A, B, C = [],[],[]\n",
        "n = int(input(\"Количество дисков = \"))\n",
        "for i in range(n, 0, -1):\n",
        "  A.append(i)\n",
        "\n",
        "def tower(diskCount, stergA, stergB, stergC):\n",
        "  if diskCount < 0:\n",
        "        return\n",
        "  tower(diskCount - 1, stergA, stergC, stergB)\n",
        "  if len(stergA) > 0 :\n",
        "    stergC.append(stergA.pop())\n",
        "  tower(diskCount - 1, stergB, stergA, stergC)\n",
        "\n",
        "tower(n, A, B, C)\n",
        "print(A, B, C)"
      ]
    },
    {
      "cell_type": "markdown",
      "id": "e5b0be17",
      "metadata": {
        "id": "e5b0be17"
      },
      "source": [
        "### Задание №4\n",
        "Дан текстовый файл с программой на алгоритмическом языке. За один просмотр файла проверить баланс круглых скобок в тексте, используя стек."
      ]
    },
    {
      "cell_type": "code",
      "execution_count": null,
      "id": "5b1df60a",
      "metadata": {
        "id": "5b1df60a",
        "colab": {
          "base_uri": "https://localhost:8080/"
        },
        "outputId": "381be254-bc9a-4b42-bebb-a43395a7d99e"
      },
      "outputs": [
        {
          "output_type": "stream",
          "name": "stdout",
          "text": [
            "Верный баланс\n"
          ]
        }
      ],
      "source": [
        "stack = []\n",
        "flag = 1\n",
        "\n",
        "taskFile = open('task4.txt', 'r', encoding = 'utf-8')\n",
        "with taskFile as readfile:\n",
        "    for string in readfile:\n",
        "        for char in string:\n",
        "            if char == \"(\":\n",
        "                stack.append(char)\n",
        "            if char == \")\":\n",
        "                if len(stack) == 0:\n",
        "                    flag = 0\n",
        "                    break\n",
        "                stack.pop()\n",
        "                \n",
        "if len(stack) > 0:\n",
        "    flag = 0\n",
        "    \n",
        "print(\"Верный баланс\" if flag else \"Неверный баланс\")"
      ]
    },
    {
      "cell_type": "markdown",
      "id": "c44cdd6b",
      "metadata": {
        "id": "c44cdd6b"
      },
      "source": [
        "### Задание №5\n",
        "Дан текстовый файл с программой на алгоритмическом языке. За один просмотр файла проверить баланс квадратных скобок в тексте, используя дек."
      ]
    },
    {
      "cell_type": "code",
      "execution_count": null,
      "id": "36b8f400",
      "metadata": {
        "id": "36b8f400",
        "colab": {
          "base_uri": "https://localhost:8080/"
        },
        "outputId": "c06aea0e-ea14-4766-d603-2f73b0e87192"
      },
      "outputs": [
        {
          "output_type": "stream",
          "name": "stdout",
          "text": [
            "Неверный баланс\n"
          ]
        }
      ],
      "source": [
        "deq = deque()\n",
        "flag = 1\n",
        "\n",
        "taskFile = open('task5.txt', 'r', encoding = 'utf-8')\n",
        "with taskFile as readfile:\n",
        "    for string in readfile:\n",
        "        for char in string:\n",
        "            if char == \"[\":\n",
        "                deq.append(char)\n",
        "            if char == \"]\":\n",
        "                if len(deq) == 0:\n",
        "                    flag = 0\n",
        "                    break\n",
        "                deq.pop()\n",
        "                \n",
        "if len(deq) > 0:\n",
        "    flag = 0\n",
        "    \n",
        "print(\"Верный баланс\" if flag else \"Неверный баланс\")"
      ]
    },
    {
      "cell_type": "markdown",
      "id": "59d13dc7",
      "metadata": {
        "id": "59d13dc7"
      },
      "source": [
        "### Задание №6\n",
        "Дан файл из символов. Используя стек, за один просмотр файла напечатать сначала все цифры, затем все буквы, и, наконец, все остальные символы, сохраняя исходный порядок в каждой группе символов."
      ]
    },
    {
      "cell_type": "code",
      "execution_count": null,
      "id": "297e36c2",
      "metadata": {
        "id": "297e36c2",
        "colab": {
          "base_uri": "https://localhost:8080/"
        },
        "outputId": "e0e187c4-9940-4f0b-d581-f19dfb2030db"
      },
      "outputs": [
        {
          "output_type": "stream",
          "name": "stdout",
          "text": [
            "3\n",
            "днядождяОтпускайПрипевОтпускайчужиеголосаизпамятисловаКоторыенельзяникомусказатьГлазасменилитонтыотпустиладоньМойдомтеперьзакроетсянавсегда\n",
            "   - \"\" \n",
            "\n",
            "()\n",
            "  ,   ,\n",
            "   .\n",
            "  ,   .\n",
            "    .\n",
            "\n",
            "\n"
          ]
        }
      ],
      "source": [
        "digits, letters, symbols = [], [], []\n",
        "with open(\"task6.txt\", \"r\", encoding=\"utf-8\") as readfile:\n",
        "  for string in readfile:\n",
        "    for char in string:\n",
        "            if char.isdigit():\n",
        "                digits.append(char)\n",
        "            elif char.isalpha():\n",
        "                letters.append(char)\n",
        "            else:\n",
        "                symbols.append(char)\n",
        "\n",
        "digits.reverse()\n",
        "letters.reverse()\n",
        "symbols.reverse()\n",
        "\n",
        "resultDigits, resultLetters, resultSymbols = \"\", \"\", \"\"\n",
        "while digits:\n",
        "    resultDigits += digits.pop()\n",
        "while letters:\n",
        "    resultLetters += letters.pop()\n",
        "while symbols:\n",
        "    resultSymbols += symbols.pop()\n",
        "    \n",
        "print(resultDigits, resultLetters, resultSymbols, sep = \"\\n\")"
      ]
    },
    {
      "cell_type": "markdown",
      "id": "973f68bd",
      "metadata": {
        "id": "973f68bd"
      },
      "source": [
        "### Задание №7\n",
        "Дан файл из целых чисел. Используя дек, за один просмотр файла напечатать сначала все отрицательные числа, затем все положительные числа, сохраняя исходный порядок в каждой группе."
      ]
    },
    {
      "cell_type": "code",
      "execution_count": null,
      "id": "c56fad66",
      "metadata": {
        "id": "c56fad66",
        "colab": {
          "base_uri": "https://localhost:8080/"
        },
        "outputId": "10a1c9df-1d3e-4067-c534-2886be51d745"
      },
      "outputs": [
        {
          "output_type": "stream",
          "name": "stdout",
          "text": [
            "Исходный файл:\n",
            " -100 478 3 56 0 -7 -4 38 42 1 -3\n",
            "Отсортированный файл:\n",
            "-100 -7 -4 -3 478 3 56 0 38 42 1 "
          ]
        }
      ],
      "source": [
        "deq = deque()\n",
        "taskFile = open('task7.txt', 'r', encoding = 'utf-8')\n",
        "with taskFile as readfile:\n",
        "    array = readfile.readline().split()\n",
        "    print(\"Исходный файл:\\n\", *array)\n",
        "    array = map(int, array)\n",
        "\n",
        "for num in array:\n",
        "    if num < 0:\n",
        "        deq.appendleft(num)\n",
        "    else:\n",
        "        deq.append(num)\n",
        "        \n",
        "while deq:\n",
        "    x = deq.popleft()\n",
        "    if x < 0:\n",
        "        deq.append(x)\n",
        "    else:\n",
        "        deq.appendleft(x)\n",
        "        break\n",
        "print(\"Отсортированный файл:\")\n",
        "while deq:\n",
        "    x = deq.pop()\n",
        "    if x < 0:\n",
        "        print(x, end = \" \")\n",
        "    else:\n",
        "        deq.append(x)\n",
        "        while deq:\n",
        "            print(deq.popleft(), end = \" \")\n",
        "        break"
      ]
    },
    {
      "cell_type": "markdown",
      "id": "b9228191",
      "metadata": {
        "id": "b9228191"
      },
      "source": [
        "### Задание №8\n",
        "Дан текстовый файл. Используя стек, сформировать новый текстовый файл, содержащий строки исходного файла, записанные в обратном порядке: первая строка становится последней, вторая – предпоследней и т.д."
      ]
    },
    {
      "cell_type": "code",
      "execution_count": null,
      "id": "981fbdfe",
      "metadata": {
        "id": "981fbdfe",
        "colab": {
          "base_uri": "https://localhost:8080/"
        },
        "outputId": "b21509aa-9e02-48ac-a545-97bf1509124c"
      },
      "outputs": [
        {
          "output_type": "stream",
          "name": "stdout",
          "text": [
            "Исходный текст файла:\n",
            "Somebody said they saw you\n",
            "The person you were kissing wasn't me\n",
            "And I would never ask you\n",
            "I just kept it to myself\n",
            "I don't wanna know\n",
            "If you're playin' me, keep it on the low\n",
            "'Cause my heart can't take it anymore\n",
            "And if you're creepin', please, don't let it show\n",
            "Oh, baby, I don't wanna know\n",
            "Oh-oh, oh-oh, ooh-woah \n",
            "\n",
            "\n",
            "Новый текст файла:\n",
            "Oh-oh, oh-oh, ooh-woah \n",
            "Oh, baby, I don't wanna know\n",
            "And if you're creepin', please, don't let it show\n",
            "'Cause my heart can't take it anymore\n",
            "If you're playin' me, keep it on the low\n",
            "I don't wanna know\n",
            "I just kept it to myself\n",
            "And I would never ask you\n",
            "The person you were kissing wasn't me\n",
            "Somebody said they saw you\n"
          ]
        }
      ],
      "source": [
        "stack = []\n",
        "taskFile = open('task8.txt', 'r', encoding = 'utf-8')\n",
        "print(\"Исходный текст файла:\")\n",
        "for string in taskFile:\n",
        "    stack.append(string)\n",
        "    print(string, end = \"\")\n",
        "\n",
        "print(\"\\n\\nНовый текст файла:\")    \n",
        "with open('reversedtask8.txt', 'w', encoding = 'utf-8') as writefile:\n",
        "    while stack:\n",
        "        print(stack[-1], end = \"\")\n",
        "        writefile.write(stack.pop())"
      ]
    },
    {
      "cell_type": "markdown",
      "id": "rental-jerusalem",
      "metadata": {
        "id": "rental-jerusalem"
      },
      "source": [
        "### Вывод\n"
      ]
    },
    {
      "cell_type": "markdown",
      "id": "0c2b8899",
      "metadata": {
        "id": "0c2b8899"
      },
      "source": [
        "Были реализованы такие структуры данных как стэк и дэк. Были использованы операции для этих структур данных (инициализация, проверка на пустоту, добавление и извлечение элемента слева и справа). Был реализован ввод и вывод в текстовый файл. Проект был загружен на Github: https://github.com/murrashovaa/Structures-and-algorithmes"
      ]
    }
  ],
  "metadata": {
    "kernelspec": {
      "display_name": "Python 3 (ipykernel)",
      "language": "python",
      "name": "python3"
    },
    "language_info": {
      "codemirror_mode": {
        "name": "ipython",
        "version": 3
      },
      "file_extension": ".py",
      "mimetype": "text/x-python",
      "name": "python",
      "nbconvert_exporter": "python",
      "pygments_lexer": "ipython3",
      "version": "3.10.2"
    },
    "colab": {
      "provenance": [],
      "include_colab_link": true
    }
  },
  "nbformat": 4,
  "nbformat_minor": 5
}