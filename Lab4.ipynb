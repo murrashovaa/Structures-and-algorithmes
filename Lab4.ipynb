{
  "cells": [
    {
      "cell_type": "markdown",
      "metadata": {
        "id": "view-in-github",
        "colab_type": "text"
      },
      "source": [
        "<a href=\"https://colab.research.google.com/github/murrashovaa/Structures-and-algorithmes/blob/main/Lab4.ipynb\" target=\"_parent\"><img src=\"https://colab.research.google.com/assets/colab-badge.svg\" alt=\"Open In Colab\"/></a>"
      ]
    },
    {
      "cell_type": "markdown",
      "id": "9567e3ca",
      "metadata": {
        "id": "9567e3ca"
      },
      "source": [
        "# Лабораторная работа 4. Методы поиска.\n",
        "## Выполнила студентка группы БСТ2105 Мурашова В.А."
      ]
    },
    {
      "cell_type": "markdown",
      "id": "46e6f552",
      "metadata": {
        "id": "46e6f552"
      },
      "source": [
        "Реализовать методы поиска в соответствии с заданием. Организовать генерацию начального набора случайных данных. Для всех вариантов добавить реализацию добавления, поиска и удаления элементов. Оценить время работы каждого алгоритма поиска и сравнить его со временем работы стандартной функции поиска, используемой в выбранном языке программирования."
      ]
    },
    {
      "cell_type": "markdown",
      "id": "b6fa0be0",
      "metadata": {
        "id": "b6fa0be0"
      },
      "source": [
        "### Задание 1\n",
        "### Бинарный поиск"
      ]
    },
    {
      "cell_type": "code",
      "execution_count": null,
      "id": "08623819",
      "metadata": {
        "id": "08623819"
      },
      "outputs": [],
      "source": [
        "import random\n",
        "import math\n",
        "import time\n",
        "import pandas as pd\n",
        "import matplotlib.pyplot as plt"
      ]
    },
    {
      "cell_type": "code",
      "execution_count": null,
      "id": "8edbea2b",
      "metadata": {
        "id": "8edbea2b"
      },
      "outputs": [],
      "source": [
        "def BinarySearch(ls: list, value: int) -> int:\n",
        "    middle = len(ls) // 2\n",
        "    left = 0\n",
        "    right = len(ls) - 1\n",
        "    while left < right and middle != value:\n",
        "        if value > ls[middle]:\n",
        "            left = middle + 1\n",
        "        else:\n",
        "            right = middle\n",
        "        middle = (left + right) // 2\n",
        "    return None if left > right else middle"
      ]
    },
    {
      "cell_type": "code",
      "execution_count": null,
      "id": "e863334c",
      "metadata": {
        "colab": {
          "base_uri": "https://localhost:8080/"
        },
        "id": "e863334c",
        "outputId": "018552d6-61af-454a-a74b-0a402b587efd"
      },
      "outputs": [
        {
          "output_type": "stream",
          "name": "stdout",
          "text": [
            "Enter length of list: N = 99\n",
            "[1, 3, 5, 6, 8, 9, 9, 9, 9, 11, 12, 12, 13, 13, 16, 19, 20, 21, 22, 22, 27, 27, 28, 29, 31, 33, 33, 34, 34, 35, 37, 37, 39, 40, 42, 42, 43, 43, 45, 45, 46, 46, 47, 49, 50, 51, 51, 51, 51, 52, 53, 55, 56, 56, 57, 58, 58, 59, 60, 60, 61, 61, 61, 62, 63, 65, 71, 71, 72, 73, 74, 74, 75, 76, 77, 77, 77, 78, 79, 79, 80, 81, 83, 84, 84, 87, 88, 88, 89, 89, 89, 90, 92, 93, 93, 95, 96, 96, 99]\n",
            "Enter a value to search: 12\n",
            "ID of elem =  12\n"
          ]
        }
      ],
      "source": [
        "n = int(input(\"Enter length of list: N = \"))\n",
        "ls = [random.randint(1, 100) for _ in range(n)]\n",
        "ls.sort()\n",
        "print(ls)\n",
        "value = int(input(\"Enter a value to search: \"))\n",
        "print(\"ID of elem = \", BinarySearch(ls, value))"
      ]
    },
    {
      "cell_type": "markdown",
      "id": "015dd054",
      "metadata": {
        "id": "015dd054"
      },
      "source": [
        "### Бинарное дерево"
      ]
    },
    {
      "cell_type": "code",
      "execution_count": null,
      "id": "f1b98e61",
      "metadata": {
        "id": "f1b98e61"
      },
      "outputs": [],
      "source": [
        "class Node:\n",
        "    def __init__(self, value):\n",
        "        self.value = value\n",
        "        self.left = None\n",
        "        self.right = None\n",
        "\n",
        "\n",
        "class BinaryTree:\n",
        "    def __init__(self):\n",
        "        self.root = None\n",
        "\n",
        "    def insert(self, value):\n",
        "        new_node = Node(value)  # Создание нового узла\n",
        "        if self.root is None:  # Если дерево пустое\n",
        "            self.root = new_node  # Новый узел становится корневым\n",
        "            return\n",
        "        current = self.root  # Текущий узел - корневой\n",
        "        while True:\n",
        "            if value < current.value:  # Если значение меньше значения текущего узла\n",
        "                if current.left is None:  # Если левый потомок отсутствует\n",
        "                    current.left = new_node  # Новый узел становится левым потомком текущего узла\n",
        "                    break\n",
        "                current = current.left  # Текущим узлом становится левый потомок текущего узла\n",
        "            else:  # Если значение больше или равно значению текущего узла\n",
        "                if current.right is None:  # Если правый потомок отсутствует\n",
        "                    current.right = new_node  # Новый узел становится правым потомком текущего узла\n",
        "                    break\n",
        "                current = current.right  # Текущим узлом становится правый потомок текущего узла\n",
        "\n",
        "    def search(self, value):\n",
        "        current = self.root  # Текущий узел - корневой\n",
        "        while True:\n",
        "            if current is None:  # Если текущий узел отсутствует\n",
        "                return False  # Узел не найден\n",
        "            if current.value == value:  # Если значения текущего узла искомого узла равны\n",
        "                return True  # Узел найден\n",
        "            elif value < current.value:  # Если значение меньше значения текущего узла\n",
        "                current = current.left  # Текущим узлом становится левый потомок текущего узла\n",
        "            else:  # Если значение больше значения текущего узла\n",
        "                current = current.right  # Текущим узлом становится правый потомок текущего узла\n",
        "                \n",
        "    def printTree(self, node): # распечатываем все дерево, от большего к меньшему\n",
        "        if node is None:\n",
        "            return\n",
        "        self.printTree(node.left)\n",
        "        print(node.value, end=\" \")\n",
        "        self.printTree(node.right)\n",
        "    \n",
        "    \n",
        "    \n",
        "    def delete(self, value):\n",
        "        \n",
        "        def _delete(node, value):\n",
        "            if node is None:  # если узел пустой, значит элемента в дереве нет\n",
        "                return node\n",
        "            elif value < node.value:  # если значение меньше значения узла, рекурсивно идем влево\n",
        "                node.left = _delete(node.left, value)\n",
        "            elif value > node.value:  # если значение больше значения узла, рекурсивно идем вправо\n",
        "                node.right = _delete(node.right, value)\n",
        "            else:  # если значение равно значению узла, то это узел, который нужно удалить\n",
        "                if node.left is None:  # если у узла нет левого потомка, возвращаем правого потомка\n",
        "                    temp = node.right\n",
        "                    node = None\n",
        "                    return temp\n",
        "                elif node.right is None:  # если у узла нет правого потомка, возвращаем левого потомка\n",
        "                    temp = node.left\n",
        "                    node = None\n",
        "                    return temp\n",
        "                temp = self.minValueNode(node.right)  # ищем узел с минимальным значением в правом поддереве\n",
        "                node.value = temp.value  # копируем значение найденного узла в удаляемый узел\n",
        "                node.right = _delete(node.right, temp.value)  # рекурсивно удаляем найденный узел\n",
        "            return node\n",
        "        \n",
        "        self.root = _delete(self.root, value)\n",
        "        \n",
        "        \n",
        "    def minValueNode(self, node):  # метод для поиска узла с минимальным значением в дереве\n",
        "        current = node\n",
        "        while current.left is not None:\n",
        "            current = current.left\n",
        "        return current"
      ]
    },
    {
      "cell_type": "code",
      "execution_count": null,
      "id": "6b2d8fe9",
      "metadata": {
        "colab": {
          "base_uri": "https://localhost:8080/"
        },
        "id": "6b2d8fe9",
        "outputId": "5102be72-c111-4a92-bcdc-934632170341"
      },
      "outputs": [
        {
          "output_type": "stream",
          "name": "stdout",
          "text": [
            "True\n"
          ]
        }
      ],
      "source": [
        "tree = BinaryTree()\n",
        "for i in range(10):\n",
        "    tree.insert(random.randint(1, 10))\n",
        "print(tree.search(10))"
      ]
    },
    {
      "cell_type": "code",
      "execution_count": null,
      "id": "624bca0d",
      "metadata": {
        "colab": {
          "base_uri": "https://localhost:8080/"
        },
        "id": "624bca0d",
        "outputId": "c2e5fcf2-8118-4278-8093-63422a5d72a9"
      },
      "outputs": [
        {
          "output_type": "stream",
          "name": "stdout",
          "text": [
            "1 3 4 4 6 7 7 8 9 10 "
          ]
        }
      ],
      "source": [
        "tree.printTree(tree.root)"
      ]
    },
    {
      "cell_type": "code",
      "execution_count": null,
      "id": "35a196cd",
      "metadata": {
        "colab": {
          "base_uri": "https://localhost:8080/"
        },
        "id": "35a196cd",
        "outputId": "7fb357d7-87c6-4577-b191-cb5cc87129b4"
      },
      "outputs": [
        {
          "output_type": "stream",
          "name": "stdout",
          "text": [
            "1 3 4 4 6 7 7 8 10 "
          ]
        }
      ],
      "source": [
        "tree.delete(9)\n",
        "tree.printTree(tree.root)"
      ]
    },
    {
      "cell_type": "markdown",
      "id": "3b96a0b8",
      "metadata": {
        "id": "3b96a0b8"
      },
      "source": [
        "### Поиск Фибоначчи"
      ]
    },
    {
      "cell_type": "code",
      "execution_count": null,
      "id": "bb6bbc33",
      "metadata": {
        "id": "bb6bbc33"
      },
      "outputs": [],
      "source": [
        "def fibonacci_search(arr, item):\n",
        "    fib1, fib2 = 0, 1\n",
        "    fib_sum = fib1 + fib2\n",
        "    while fib_sum < len(arr):\n",
        "        fib1 = fib2\n",
        "        fib2 = fib_sum\n",
        "        fib_sum = fib1 + fib2\n",
        "\n",
        "    offset = -1\n",
        "    while fib_sum > 1:\n",
        "        i = min(offset + fib1, len(arr) - 1)\n",
        "        if arr[i] < item:\n",
        "            fib_sum = fib2\n",
        "            fib2 = fib1\n",
        "            fib1 = fib_sum - fib2\n",
        "            offset = i\n",
        "        elif arr[i] > item:\n",
        "            fib_sum = fib1\n",
        "            fib2 = fib2 - fib1\n",
        "            fib1 = fib_sum - fib2\n",
        "        else:\n",
        "            return i\n",
        "    if fib2 == 1 and arr[offset + 1] == item:\n",
        "        return offset + 1\n",
        "    return None"
      ]
    },
    {
      "cell_type": "code",
      "execution_count": null,
      "id": "7be22db9",
      "metadata": {
        "colab": {
          "base_uri": "https://localhost:8080/"
        },
        "id": "7be22db9",
        "outputId": "7fc99333-90a9-40fe-f52e-6daccae52da4"
      },
      "outputs": [
        {
          "output_type": "stream",
          "name": "stdout",
          "text": [
            "Enter N: 65\n",
            "[2, 4, 6, 6, 10, 11, 13, 13, 14, 14, 16, 17, 22, 22, 22, 22, 25, 26, 27, 27, 29, 30, 35, 38, 39, 39, 40, 40, 41, 42, 43, 45, 45, 45, 49, 50, 52, 52, 52, 53, 56, 58, 60, 61, 64, 64, 65, 65, 66, 72, 73, 73, 74, 75, 79, 81, 81, 81, 83, 89, 90, 93, 94, 96, 96]\n",
            "Enter item: 13\n",
            "Element 13 found at index 7\n"
          ]
        }
      ],
      "source": [
        "n = int(input(\"Enter N: \"))\n",
        "arr = sorted([random.randint(1, 100) for _ in range(n)])\n",
        "print(arr)\n",
        "item = int(input(\"Enter item: \"))\n",
        "result = fibonacci_search(arr, item)\n",
        "if result is not None:\n",
        "    print(f\"Element {item} found at index {result}\")\n",
        "else:\n",
        "    print(f\"Element {item} not found\")"
      ]
    },
    {
      "cell_type": "markdown",
      "id": "24145216",
      "metadata": {
        "id": "24145216"
      },
      "source": [
        "### Интерполяционный поиск"
      ]
    },
    {
      "cell_type": "code",
      "execution_count": null,
      "id": "e18364d7",
      "metadata": {
        "id": "e18364d7"
      },
      "outputs": [],
      "source": [
        "def interpolation_search(arr, item):\n",
        "    low = 0\n",
        "    high = len(arr) - 1\n",
        "    while low <= high and item >= arr[low] and item <= arr[high]:\n",
        "        pos = low + ((item - arr[low]) * (high - low) // (arr[high] - arr[low]))\n",
        "        if arr[pos] == item:\n",
        "            return pos\n",
        "        elif arr[pos] < item:\n",
        "            low = pos + 1\n",
        "        else:\n",
        "            high = pos - 1\n",
        "    return None"
      ]
    },
    {
      "cell_type": "code",
      "execution_count": null,
      "id": "d0cd306b",
      "metadata": {
        "colab": {
          "base_uri": "https://localhost:8080/"
        },
        "id": "d0cd306b",
        "outputId": "c379ecfa-ca11-432c-d8c6-22984aa17678"
      },
      "outputs": [
        {
          "output_type": "stream",
          "name": "stdout",
          "text": [
            "Enter N: 37\n",
            "[1, 4, 10, 10, 13, 13, 19, 22, 25, 29, 30, 31, 33, 33, 42, 43, 49, 50, 50, 50, 52, 57, 61, 62, 66, 68, 69, 74, 77, 79, 81, 82, 90, 92, 97, 98, 100]\n",
            "Enter item: 22\n",
            "Element 22 found at index 7\n"
          ]
        }
      ],
      "source": [
        "n = int(input(\"Enter N: \"))\n",
        "arr = sorted([random.randint(1, 100) for _ in range(n)])\n",
        "print(arr)\n",
        "item = int(input(\"Enter item: \"))\n",
        "result = interpolation_search(arr, item)\n",
        "if result is not None:\n",
        "    print(f\"Element {item} found at index {result}\")\n",
        "else:\n",
        "    print(f\"Element {item} not found\")"
      ]
    },
    {
      "cell_type": "markdown",
      "id": "5b60ec1e",
      "metadata": {
        "id": "5b60ec1e"
      },
      "source": [
        "### Сравнение методов поиска"
      ]
    },
    {
      "cell_type": "code",
      "execution_count": null,
      "id": "734ef501",
      "metadata": {
        "id": "734ef501"
      },
      "outputs": [],
      "source": [
        "arrays, elems = [], []\n",
        "for i in range(1, 11):\n",
        "    arrays.append([random.randint(1, 10000*i) for _ in range(10000*i)])\n",
        "    elems.append(10000*i)"
      ]
    },
    {
      "cell_type": "code",
      "execution_count": null,
      "id": "888ae9f2",
      "metadata": {
        "colab": {
          "base_uri": "https://localhost:8080/"
        },
        "id": "888ae9f2",
        "outputId": "805cf67f-217b-43a0-ad7f-afb071653fa0"
      },
      "outputs": [
        {
          "output_type": "stream",
          "name": "stdout",
          "text": [
            "10000 элементов:  0.002239 cекунд\n",
            "20000 элементов:  0.004943 cекунд\n",
            "30000 элементов:  0.011031 cекунд\n",
            "40000 элементов:  0.014404 cекунд\n",
            "50000 элементов:  0.015575 cекунд\n",
            "60000 элементов:  0.018934 cекунд\n",
            "70000 элементов:  0.025518 cекунд\n",
            "80000 элементов:  0.035933 cекунд\n",
            "90000 элементов:  0.03245 cекунд\n",
            "100000 элементов:  0.039974 cекунд\n"
          ]
        }
      ],
      "source": [
        "binary = []\n",
        "for i in range(len(arrays)):\n",
        "    start = time.perf_counter()\n",
        "    array = sorted(arrays[i])\n",
        "    res = BinarySearch(array, 9999*i+1)\n",
        "    end = time.perf_counter()\n",
        "    print(10000*(i+1), \"элементов: \", round(end-start, 6), \"cекунд\")\n",
        "    binary.append(end-start)"
      ]
    },
    {
      "cell_type": "code",
      "execution_count": null,
      "id": "a03dd95c",
      "metadata": {
        "colab": {
          "base_uri": "https://localhost:8080/"
        },
        "id": "a03dd95c",
        "outputId": "7e84fab3-b593-4bfb-81ab-90b0c14bb361"
      },
      "outputs": [
        {
          "output_type": "stream",
          "name": "stdout",
          "text": [
            "10000 элементов:  1.2e-05 cекунд\n",
            "20000 элементов:  1.1e-05 cекунд\n",
            "30000 элементов:  1.4e-05 cекунд\n",
            "40000 элементов:  1.7e-05 cекунд\n",
            "50000 элементов:  1e-05 cекунд\n",
            "60000 элементов:  1.3e-05 cекунд\n",
            "70000 элементов:  1.1e-05 cекунд\n",
            "80000 элементов:  7e-06 cекунд\n",
            "90000 элементов:  1.8e-05 cекунд\n",
            "100000 элементов:  1.2e-05 cекунд\n"
          ]
        }
      ],
      "source": [
        "binarytree = []\n",
        "for i in range(len(arrays)):\n",
        "    tree = BinaryTree()\n",
        "    for elem in arrays[i]:\n",
        "        tree.insert(elem)\n",
        "    start = time.perf_counter()\n",
        "    res = tree.search(9999*i+1)\n",
        "    end = time.perf_counter()\n",
        "    print(10000*(i+1), \"элементов: \", round(end-start, 6), \"cекунд\")\n",
        "    binarytree.append(end-start)"
      ]
    },
    {
      "cell_type": "code",
      "execution_count": null,
      "id": "0c9cb06c",
      "metadata": {
        "colab": {
          "base_uri": "https://localhost:8080/"
        },
        "id": "0c9cb06c",
        "outputId": "43c659ef-e799-44ac-b3e0-7b1d5ad76d6f"
      },
      "outputs": [
        {
          "output_type": "stream",
          "name": "stdout",
          "text": [
            "10000 элементов:  0.002027 cекунд\n",
            "20000 элементов:  0.005142 cекунд\n",
            "30000 элементов:  0.005701 cекунд\n",
            "40000 элементов:  0.008513 cекунд\n",
            "50000 элементов:  0.012029 cекунд\n",
            "60000 элементов:  0.013524 cекунд\n",
            "70000 элементов:  0.016524 cекунд\n",
            "80000 элементов:  0.019124 cекунд\n",
            "90000 элементов:  0.024671 cекунд\n",
            "100000 элементов:  0.025667 cекунд\n"
          ]
        }
      ],
      "source": [
        "fibonacci = []\n",
        "for i in range(len(arrays)):\n",
        "    start = time.perf_counter()\n",
        "    array = sorted(arrays[i])\n",
        "    res = fibonacci_search(array, 9999*i+1)\n",
        "    end = time.perf_counter()\n",
        "    print(10000*(i+1), \"элементов: \", round(end-start, 6), \"cекунд\")\n",
        "    fibonacci.append(end-start)"
      ]
    },
    {
      "cell_type": "code",
      "execution_count": null,
      "id": "5109f354",
      "metadata": {
        "colab": {
          "base_uri": "https://localhost:8080/"
        },
        "id": "5109f354",
        "outputId": "622baa76-7bb5-47ee-8285-2e1436a7943a"
      },
      "outputs": [
        {
          "output_type": "stream",
          "name": "stdout",
          "text": [
            "10000 элементов:  0.001835 cекунд\n",
            "20000 элементов:  0.004934 cекунд\n",
            "30000 элементов:  0.008992 cекунд\n",
            "40000 элементов:  0.009178 cекунд\n",
            "50000 элементов:  0.01291 cекунд\n",
            "60000 элементов:  0.01425 cекунд\n",
            "70000 элементов:  0.015856 cекунд\n",
            "80000 элементов:  0.019388 cекунд\n",
            "90000 элементов:  0.022918 cекунд\n",
            "100000 элементов:  0.025883 cекунд\n"
          ]
        }
      ],
      "source": [
        "interpol = []\n",
        "for i in range(len(arrays)):\n",
        "    start = time.perf_counter()\n",
        "    array = sorted(arrays[i])\n",
        "    res = interpolation_search(array, 9999*i+1)\n",
        "    end = time.perf_counter()\n",
        "    print(10000*(i+1), \"элементов: \", round(end-start, 6), \"cекунд\")\n",
        "    interpol.append(end-start)"
      ]
    },
    {
      "cell_type": "code",
      "execution_count": null,
      "id": "e2262c26",
      "metadata": {
        "colab": {
          "base_uri": "https://localhost:8080/"
        },
        "id": "e2262c26",
        "outputId": "256548a5-6dba-4d81-fdd8-8275875f5a6f"
      },
      "outputs": [
        {
          "output_type": "stream",
          "name": "stdout",
          "text": [
            "10000 элементов:  0.002359 cекунд\n",
            "20000 элементов:  0.006915 cекунд\n",
            "30000 элементов:  0.009509 cекунд\n",
            "40000 элементов:  0.008766 cекунд\n",
            "50000 элементов:  0.013155 cекунд\n",
            "60000 элементов:  0.017049 cекунд\n",
            "70000 элементов:  0.02005 cекунд\n",
            "80000 элементов:  0.021567 cекунд\n",
            "90000 элементов:  0.026566 cекунд\n",
            "100000 элементов:  0.027625 cекунд\n"
          ]
        }
      ],
      "source": [
        "python = []\n",
        "for i in range(len(arrays)):\n",
        "    start = time.perf_counter()\n",
        "    array = sorted(arrays[i])\n",
        "    try:\n",
        "        array.index(9999*i+1)\n",
        "    except ValueError:\n",
        "        pass\n",
        "    end = time.perf_counter()\n",
        "    print(10000*(i+1), \"элементов: \", round(end-start, 6), \"cекунд\")\n",
        "    python.append(end-start)"
      ]
    },
    {
      "cell_type": "code",
      "execution_count": null,
      "id": "815cd39a",
      "metadata": {
        "colab": {
          "base_uri": "https://localhost:8080/",
          "height": 449
        },
        "id": "815cd39a",
        "outputId": "fc9a125e-22aa-4def-fdbf-40c559d7a359"
      },
      "outputs": [
        {
          "output_type": "display_data",
          "data": {
            "text/plain": [
              "<Figure size 640x480 with 1 Axes>"
            ],
            "image/png": "[encoded data removed]"
          },
          "metadata": {}
        }
      ],
      "source": [
        "#общий график - сравнение алгоритмов\n",
        "plt.xlabel('Количество элементов')\n",
        "plt.ylabel('Временная сложность')\n",
        "plt.plot(elems, binary, label ='BinarySearch')\n",
        "plt.plot(elems, binarytree, label ='BinaryTree')\n",
        "plt.plot(elems, fibonacci, label ='FibonacciSearch')\n",
        "plt.plot(elems, interpol, label ='InterpolationSearch')\n",
        "plt.plot(elems, python, label ='PythonSearch')\n",
        "plt.grid()\n",
        "plt.legend()\n",
        "plt.show()"
      ]
    },
    {
      "cell_type": "code",
      "execution_count": null,
      "id": "6e857c80",
      "metadata": {
        "colab": {
          "base_uri": "https://localhost:8080/",
          "height": 363
        },
        "id": "6e857c80",
        "outputId": "238ef45e-3c12-40d2-9425-32be36436725"
      },
      "outputs": [
        {
          "output_type": "execute_result",
          "data": {
            "text/plain": [
              "        BinarySearch O(log n)  BinaryTree O(log(log n))  \\\n",
              "10000                0.002239                  0.000012   \n",
              "20000                0.004943                  0.000011   \n",
              "30000                0.011031                  0.000014   \n",
              "40000                0.014404                  0.000017   \n",
              "50000                0.015575                  0.000010   \n",
              "60000                0.018934                  0.000013   \n",
              "70000                0.025518                  0.000011   \n",
              "80000                0.035933                  0.000007   \n",
              "90000                0.032450                  0.000018   \n",
              "100000               0.039974                  0.000012   \n",
              "\n",
              "        FibonacciSearch O(log n)  InterpolationSearch O(log n)  \\\n",
              "10000                   0.002027                      0.001835   \n",
              "20000                   0.005142                      0.004934   \n",
              "30000                   0.005701                      0.008992   \n",
              "40000                   0.008513                      0.009178   \n",
              "50000                   0.012029                      0.012910   \n",
              "60000                   0.013524                      0.014250   \n",
              "70000                   0.016524                      0.015856   \n",
              "80000                   0.019124                      0.019388   \n",
              "90000                   0.024671                      0.022918   \n",
              "100000                  0.025667                      0.025883   \n",
              "\n",
              "        PythonSearch O(log n)  \n",
              "10000                0.002359  \n",
              "20000                0.006915  \n",
              "30000                0.009509  \n",
              "40000                0.008766  \n",
              "50000                0.013155  \n",
              "60000                0.017049  \n",
              "70000                0.020050  \n",
              "80000                0.021567  \n",
              "90000                0.026566  \n",
              "100000               0.027625  "
            ],
            "text/html": [
              "\n",
              "  <div id=\"df-e3e73dc8-edd0-49f0-b358-685a841b0109\">\n",
              "    <div class=\"colab-df-container\">\n",
              "      <div>\n",
              "<style scoped>\n",
              "    .dataframe tbody tr th:only-of-type {\n",
              "        vertical-align: middle;\n",
              "    }\n",
              "\n",
              "    .dataframe tbody tr th {\n",
              "        vertical-align: top;\n",
              "    }\n",
              "\n",
              "    .dataframe thead th {\n",
              "        text-align: right;\n",
              "    }\n",
              "</style>\n",
              "<table border=\"1\" class=\"dataframe\">\n",
              "  <thead>\n",
              "    <tr style=\"text-align: right;\">\n",
              "      <th></th>\n",
              "      <th>BinarySearch O(log n)</th>\n",
              "      <th>BinaryTree O(log(log n))</th>\n",
              "      <th>FibonacciSearch O(log n)</th>\n",
              "      <th>InterpolationSearch O(log n)</th>\n",
              "      <th>PythonSearch O(log n)</th>\n",
              "    </tr>\n",
              "  </thead>\n",
              "  <tbody>\n",
              "    <tr>\n",
              "      <th>10000</th>\n",
              "      <td>0.002239</td>\n",
              "      <td>0.000012</td>\n",
              "      <td>0.002027</td>\n",
              "      <td>0.001835</td>\n",
              "      <td>0.002359</td>\n",
              "    </tr>\n",
              "    <tr>\n",
              "      <th>20000</th>\n",
              "      <td>0.004943</td>\n",
              "      <td>0.000011</td>\n",
              "      <td>0.005142</td>\n",
              "      <td>0.004934</td>\n",
              "      <td>0.006915</td>\n",
              "    </tr>\n",
              "    <tr>\n",
              "      <th>30000</th>\n",
              "      <td>0.011031</td>\n",
              "      <td>0.000014</td>\n",
              "      <td>0.005701</td>\n",
              "      <td>0.008992</td>\n",
              "      <td>0.009509</td>\n",
              "    </tr>\n",
              "    <tr>\n",
              "      <th>40000</th>\n",
              "      <td>0.014404</td>\n",
              "      <td>0.000017</td>\n",
              "      <td>0.008513</td>\n",
              "      <td>0.009178</td>\n",
              "      <td>0.008766</td>\n",
              "    </tr>\n",
              "    <tr>\n",
              "      <th>50000</th>\n",
              "      <td>0.015575</td>\n",
              "      <td>0.000010</td>\n",
              "      <td>0.012029</td>\n",
              "      <td>0.012910</td>\n",
              "      <td>0.013155</td>\n",
              "    </tr>\n",
              "    <tr>\n",
              "      <th>60000</th>\n",
              "      <td>0.018934</td>\n",
              "      <td>0.000013</td>\n",
              "      <td>0.013524</td>\n",
              "      <td>0.014250</td>\n",
              "      <td>0.017049</td>\n",
              "    </tr>\n",
              "    <tr>\n",
              "      <th>70000</th>\n",
              "      <td>0.025518</td>\n",
              "      <td>0.000011</td>\n",
              "      <td>0.016524</td>\n",
              "      <td>0.015856</td>\n",
              "      <td>0.020050</td>\n",
              "    </tr>\n",
              "    <tr>\n",
              "      <th>80000</th>\n",
              "      <td>0.035933</td>\n",
              "      <td>0.000007</td>\n",
              "      <td>0.019124</td>\n",
              "      <td>0.019388</td>\n",
              "      <td>0.021567</td>\n",
              "    </tr>\n",
              "    <tr>\n",
              "      <th>90000</th>\n",
              "      <td>0.032450</td>\n",
              "      <td>0.000018</td>\n",
              "      <td>0.024671</td>\n",
              "      <td>0.022918</td>\n",
              "      <td>0.026566</td>\n",
              "    </tr>\n",
              "    <tr>\n",
              "      <th>100000</th>\n",
              "      <td>0.039974</td>\n",
              "      <td>0.000012</td>\n",
              "      <td>0.025667</td>\n",
              "      <td>0.025883</td>\n",
              "      <td>0.027625</td>\n",
              "    </tr>\n",
              "  </tbody>\n",
              "</table>\n",
              "</div>\n",
              "      <button class=\"colab-df-convert\" onclick=\"convertToInteractive('df-e3e73dc8-edd0-49f0-b358-685a841b0109')\"\n",
              "              title=\"Convert this dataframe to an interactive table.\"\n",
              "              style=\"display:none;\">\n",
              "        \n",
              "  <svg xmlns=\"http://www.w3.org/2000/svg\" height=\"24px\"viewBox=\"0 0 24 24\"\n",
              "       width=\"24px\">\n",
              "    <path d=\"M0 0h24v24H0V0z\" fill=\"none\"/>\n",
              "    <path d=\"M18.56 5.44l.94 2.06.94-2.06 2.06-.94-2.06-.94-.94-2.06-.94 2.06-2.06.94zm-11 1L8.5 8.5l.94-2.06 2.06-.94-2.06-.94L8.5 2.5l-.94 2.06-2.06.94zm10 10l.94 2.06.94-2.06 2.06-.94-2.06-.94-.94-2.06-.94 2.06-2.06.94z\"/><path d=\"M17.41 7.96l-1.37-1.37c-.4-.4-.92-.59-1.43-.59-.52 0-1.04.2-1.43.59L10.3 9.45l-7.72 7.72c-.78.78-.78 2.05 0 2.83L4 21.41c.39.39.9.59 1.41.59.51 0 1.02-.2 1.41-.59l7.78-7.78 2.81-2.81c.8-.78.8-2.07 0-2.86zM5.41 20L4 18.59l7.72-7.72 1.47 1.35L5.41 20z\"/>\n",
              "  </svg>\n",
              "      </button>\n",
              "      \n",
              "  <style>\n",
              "    .colab-df-container {\n",
              "      display:flex;\n",
              "      flex-wrap:wrap;\n",
              "      gap: 12px;\n",
              "    }\n",
              "\n",
              "    .colab-df-convert {\n",
              "      background-color: #E8F0FE;\n",
              "      border: none;\n",
              "      border-radius: 50%;\n",
              "      cursor: pointer;\n",
              "      display: none;\n",
              "      fill: #1967D2;\n",
              "      height: 32px;\n",
              "      padding: 0 0 0 0;\n",
              "      width: 32px;\n",
              "    }\n",
              "\n",
              "    .colab-df-convert:hover {\n",
              "      background-color: #E2EBFA;\n",
              "      box-shadow: 0px 1px 2px rgba(60, 64, 67, 0.3), 0px 1px 3px 1px rgba(60, 64, 67, 0.15);\n",
              "      fill: #174EA6;\n",
              "    }\n",
              "\n",
              "    [theme=dark] .colab-df-convert {\n",
              "      background-color: #3B4455;\n",
              "      fill: #D2E3FC;\n",
              "    }\n",
              "\n",
              "    [theme=dark] .colab-df-convert:hover {\n",
              "      background-color: #434B5C;\n",
              "      box-shadow: 0px 1px 3px 1px rgba(0, 0, 0, 0.15);\n",
              "      filter: drop-shadow(0px 1px 2px rgba(0, 0, 0, 0.3));\n",
              "      fill: #FFFFFF;\n",
              "    }\n",
              "  </style>\n",
              "\n",
              "      <script>\n",
              "        const buttonEl =\n",
              "          document.querySelector('#df-e3e73dc8-edd0-49f0-b358-685a841b0109 button.colab-df-convert');\n",
              "        buttonEl.style.display =\n",
              "          google.colab.kernel.accessAllowed ? 'block' : 'none';\n",
              "\n",
              "        async function convertToInteractive(key) {\n",
              "          const element = document.querySelector('#df-e3e73dc8-edd0-49f0-b358-685a841b0109');\n",
              "          const dataTable =\n",
              "            await google.colab.kernel.invokeFunction('convertToInteractive',\n",
              "                                                     [key], {});\n",
              "          if (!dataTable) return;\n",
              "\n",
              "          const docLinkHtml = 'Like what you see? Visit the ' +\n",
              "            '<a target=\"_blank\" href=https://colab.research.google.com/notebooks/data_table.ipynb>data table notebook</a>'\n",
              "            + ' to learn more about interactive tables.';\n",
              "          element.innerHTML = '';\n",
              "          dataTable['output_type'] = 'display_data';\n",
              "          await google.colab.output.renderOutput(dataTable, element);\n",
              "          const docLink = document.createElement('div');\n",
              "          docLink.innerHTML = docLinkHtml;\n",
              "          element.appendChild(docLink);\n",
              "        }\n",
              "      </script>\n",
              "    </div>\n",
              "  </div>\n",
              "  "
            ]
          },
          "metadata": {},
          "execution_count": 19
        }
      ],
      "source": [
        "df = pd.DataFrame({'BinarySearch O(log n)': [binary[i] for i in range(10)],\n",
        "                   'BinaryTree O(log(log n))': [binarytree[i] for i in range(10)],\n",
        "                   'FibonacciSearch O(log n)': [fibonacci[i] for i in range(10)],\n",
        "                   'InterpolationSearch O(log n)': [interpol[i] for i in range(10)],\n",
        "                   'PythonSearch O(log n)': [python[i] for i in range(10)]}, index=elems).round(6)\n",
        "\n",
        "df"
      ]
    },
    {
      "cell_type": "markdown",
      "id": "7e804189",
      "metadata": {
        "id": "7e804189"
      },
      "source": [
        "### Задание 2\n",
        "### Простое рехэширование"
      ]
    },
    {
      "cell_type": "code",
      "execution_count": null,
      "id": "78e87d14",
      "metadata": {
        "id": "78e87d14"
      },
      "outputs": [],
      "source": [
        "# при возникновении коллизии, ключ переносится в следующую свободную ячейку, начиная с той, в которой он должен быть помещен\n",
        "class HashNode:\n",
        "    \n",
        "    def __init__(self, key, value):\n",
        "        self.key = key\n",
        "        self.value = value\n",
        "        \n",
        "    def get_key(self):\n",
        "        return self.key\n",
        "\n",
        "    def get_value(self):\n",
        "        return self.value\n",
        "\n",
        "class SimpleHashMap:\n",
        "    \n",
        "    def __init__(self, capacity: int):\n",
        "        self.size = 0\n",
        "        self.capacity = capacity\n",
        "        self.buckets = [None] * self.capacity\n",
        "    \n",
        "    def _hash_generate(self, key):\n",
        "        return key % self.capacity\n",
        "\n",
        "    def insert(self, key, value):\n",
        "        if self.size != self.capacity:\n",
        "            self.size += 1\n",
        "            index = self._hash_generate(key)\n",
        "            while self.buckets:\n",
        "                if self.buckets[index] != None: # проверка на коллизию\n",
        "                    index = (index + 1) % self.capacity\n",
        "                else: break\n",
        "            self.buckets[index] = HashNode(index, value) #?\n",
        "        else:\n",
        "            print(\"HashMap is full\")\n",
        "    \n",
        "    def get(self, key):\n",
        "        index = _hash_generate(key)\n",
        "        return self.buckets[index]\n",
        "    \n",
        "    def delete(self, key):\n",
        "        index = _hash_generate(key)\n",
        "        if self.size:\n",
        "            self.size -= 1\n",
        "            self.buckets[index] = None\n",
        "        else:\n",
        "            print(\"HashMap is empty\")\n",
        "        \n",
        "        \n",
        "    def print(self):\n",
        "        for i in range(len(self.buckets)):\n",
        "            if self.buckets[i] != None:\n",
        "                print(self.buckets[i].get_key(), self.buckets[i].get_value(), sep=\": \")\n",
        "        print()"
      ]
    },
    {
      "cell_type": "code",
      "execution_count": null,
      "id": "bd032645",
      "metadata": {
        "colab": {
          "base_uri": "https://localhost:8080/"
        },
        "id": "bd032645",
        "outputId": "eeed53d9-494e-4c28-f238-fd1cde24201d"
      },
      "outputs": [
        {
          "output_type": "stream",
          "name": "stdout",
          "text": [
            "0: 7\n",
            "1: 2\n",
            "2: 0\n",
            "3: 10\n",
            "4: 4\n",
            "5: 3\n",
            "\n",
            "HashMap is full\n"
          ]
        }
      ],
      "source": [
        "hash_table = SimpleHashMap(6)\n",
        "hash_table.insert(1, 2)\n",
        "hash_table.insert(2, 0)\n",
        "hash_table.insert(4, 4)\n",
        "hash_table.insert(11, 3) \n",
        "hash_table.insert(16, 7) # коллизия с ключом (11 % 6 == 16 % 6)\n",
        "hash_table.insert(10, 10)\n",
        "hash_table.print()\n",
        "\n",
        "hash_table.insert(12, 10)"
      ]
    },
    {
      "cell_type": "markdown",
      "id": "c76f040a",
      "metadata": {
        "id": "c76f040a"
      },
      "source": [
        "### Рехэширование с псевдослучайными числами"
      ]
    },
    {
      "cell_type": "code",
      "execution_count": null,
      "id": "178f6f22",
      "metadata": {
        "id": "178f6f22"
      },
      "outputs": [],
      "source": [
        "class RandomHashMap:\n",
        "    \n",
        "    def __init__(self, capacity: int):\n",
        "        self.size = 0\n",
        "        self.capacity = capacity\n",
        "        self.buckets = [None] * self.capacity\n",
        "    \n",
        "    def _random_hash_generate(self, key):\n",
        "        indexes = [i for i in range(self.capacity)]\n",
        "        random.shuffle(indexes)\n",
        "        while self.buckets:\n",
        "            index = indexes.pop()\n",
        "            if self.buckets[index] == None: # проверка на коллизию\n",
        "                return index\n",
        "\n",
        "    def insert(self, key, value):\n",
        "        if self.size != self.capacity:\n",
        "            self.size += 1\n",
        "            index = self._random_hash_generate(key)\n",
        "            self.buckets[index] = HashNode(index, value) #?\n",
        "        else:\n",
        "            print(\"HashMap is full\")\n",
        "            \n",
        "    def delete(self, key):\n",
        "        if key > self.capacity-1:\n",
        "            print(\"key isn't found\")\n",
        "        if self.size:\n",
        "            self.size -= 1\n",
        "            self.buckets[key] = None\n",
        "        else:\n",
        "            print(\"HashMap is empty\")\n",
        "            \n",
        "    def print(self):\n",
        "        for i in range(len(self.buckets)):\n",
        "            if self.buckets[i] != None:\n",
        "                print(f\"Key: {self.buckets[i].get_key()}, Value: {self.buckets[i].get_value()}\")\n",
        "        print()"
      ]
    },
    {
      "cell_type": "code",
      "execution_count": null,
      "id": "64a6da47",
      "metadata": {
        "colab": {
          "base_uri": "https://localhost:8080/"
        },
        "id": "64a6da47",
        "outputId": "c06ef0f0-42c4-47a5-a154-374f54a35dea"
      },
      "outputs": [
        {
          "output_type": "stream",
          "name": "stdout",
          "text": [
            "Key: 0, Value: 4\n",
            "Key: 1, Value: 2\n",
            "Key: 2, Value: 7\n",
            "Key: 3, Value: 3\n",
            "Key: 4, Value: 10\n",
            "Key: 5, Value: 0\n",
            "\n",
            "HashMap is full\n"
          ]
        }
      ],
      "source": [
        "hash_map = RandomHashMap(6)\n",
        "hash_map.insert(1, 2)\n",
        "hash_map.insert(2, 0)\n",
        "hash_map.insert(4, 4)\n",
        "hash_map.insert(11, 3) \n",
        "hash_map.insert(16, 7)\n",
        "hash_map.insert(10, 10)\n",
        "hash_map.print()\n",
        "\n",
        "hash_map.insert(12, 10)"
      ]
    },
    {
      "cell_type": "markdown",
      "id": "b483af2c",
      "metadata": {
        "id": "b483af2c"
      },
      "source": [
        "### Метод цепочек"
      ]
    },
    {
      "cell_type": "code",
      "execution_count": null,
      "id": "68650f22",
      "metadata": {
        "id": "68650f22"
      },
      "outputs": [],
      "source": [
        "# Метод цепочек - это метод решения коллизий в хэш-таблицах.\n",
        "# Он основан на создании связанных списков (цепочек) элементов,\n",
        "# которые имеют одинаковый хэш-код.\n",
        "# Создаем класс узла списка\n",
        "class ChainHashNode:\n",
        "    def __init__(self, key, value):\n",
        "        self.key = key\n",
        "        self.value = value\n",
        "        self.next = None\n",
        "    \n",
        "    def get_key(self):\n",
        "        return self.key\n",
        "\n",
        "    def get_value(self):\n",
        "        return self.value\n",
        "    \n",
        "    def get_next(self):\n",
        "        return self.next\n",
        "\n",
        "\n",
        "# Создаем класс хэш-таблицы\n",
        "class ChainHashMap:\n",
        "    def __init__(self):\n",
        "        self.capacity = 10  # начальная емкость таблицы\n",
        "        self.size = 0  # количество элементов в таблице\n",
        "        self.buckets = [None] * self.capacity  # создаем пустые списки для каждой ячейки таблицы\n",
        "\n",
        "    # Метод добавления элемента в таблицу\n",
        "    def insert(self, key, value):\n",
        "        index = hash(key) % self.capacity  # вычисляем хэш-код ключа и индекс ячейки таблицы\n",
        "        node = self.buckets[index]  # получаем список (цепочку) элементов по индексу\n",
        "        while node:  # проходим по всем элементам цепочки\n",
        "            if node.key == key:  # если ключ уже есть в таблице, обновляем значение\n",
        "                node.value = value\n",
        "                return\n",
        "            node = node.next\n",
        "        # если ключа нет в таблице, добавляем его в начало цепочки\n",
        "        new_node = ChainHashNode(key, value)\n",
        "        new_node.next = self.buckets[index]\n",
        "        self.buckets[index] = new_node\n",
        "        self.size += 1\n",
        "        # если количество элементов превысило 70% от емкости таблицы, увеличиваем емкость вдвое\n",
        "        if self.size > 0.7 * self.capacity:\n",
        "            self.resize()\n",
        "\n",
        "    # Метод получения значения по ключу\n",
        "    def get(self, key):\n",
        "        index = hash(key) % self.capacity  # вычисляем хэш-код ключа и индекс ячейки таблицы\n",
        "        node = self.buckets[index]  # получаем список (цепочку) элементов по индексу\n",
        "        while node:  # проходим по всем элементам цепочки\n",
        "            if node.key == key:  # если ключ найден, возвращаем его значение\n",
        "                return node.value\n",
        "            node = node.next\n",
        "        # если ключ не найден, возвращаем None\n",
        "        return None\n",
        "\n",
        "    # Метод удаления элемента из таблицы\n",
        "    def delete(self, key):\n",
        "        index = hash(key) % self.capacity  # вычисляем хэш-код ключа и индекс ячейки таблицы\n",
        "        node = self.buckets[index]  # получаем список (цепочку) элементов по индексу\n",
        "        prev = None\n",
        "        while node:  # проходим по всем элементам цепочки\n",
        "            if node.key == key:  # если ключ найден, удаляем элемент\n",
        "                if prev:\n",
        "                    prev.next = node.next\n",
        "                else:\n",
        "                    self.buckets[index] = node.next\n",
        "                self.size -= 1\n",
        "                return\n",
        "            prev = node\n",
        "            node = node.next\n",
        "\n",
        "    # Метод изменения емкости таблицы\n",
        "    def resize(self):\n",
        "        new_capacity = self.capacity * 2  # увеличиваем емкость вдвое\n",
        "        new_buckets = [None] * new_capacity  # создаем новую таблицу с увеличенной емкостью\n",
        "        # перехешируем все элементы из старой таблицы в новую\n",
        "        for i in range(self.capacity):\n",
        "            node = self.buckets[i]\n",
        "            while node:\n",
        "                index = hash(node.key) % new_capacity\n",
        "                if new_buckets[index]:\n",
        "                    new_node = new_buckets[index]\n",
        "                    while new_node.next:\n",
        "                        new_node = new_node.next\n",
        "                    new_node.next = ChainHashNode(node.key, node.value)\n",
        "                else:\n",
        "                    new_buckets[index] = ChainHashNode(node.key, node.value)\n",
        "                node = node.next\n",
        "        self.capacity = new_capacity\n",
        "        self.buckets = new_buckets\n",
        "        \n",
        "    def print(self):\n",
        "        for i in range(self.capacity):\n",
        "            node = self.buckets[i]\n",
        "            while node:\n",
        "                print(f\"Key: {node.key}, Value: {node.value}\")\n",
        "                node = node.next\n"
      ]
    },
    {
      "cell_type": "code",
      "execution_count": null,
      "id": "9b2d863a",
      "metadata": {
        "scrolled": true,
        "colab": {
          "base_uri": "https://localhost:8080/"
        },
        "id": "9b2d863a",
        "outputId": "7b1adf9c-a8e3-45e1-8799-29eeb2515510"
      },
      "outputs": [
        {
          "output_type": "stream",
          "name": "stdout",
          "text": [
            "Key: key5, Value: 3\n",
            "Key: key1, Value: value1\n",
            "Key: key3, Value: value3\n",
            "Key: key6, Value: 2\n",
            "Key: key4, Value: value4\n",
            "Key: key2, Value: value2\n"
          ]
        }
      ],
      "source": [
        "ht = ChainHashMap()\n",
        "ht.insert('key1', 'value1')\n",
        "ht.insert('key2', 'value2')\n",
        "ht.insert('key3', 'value3')\n",
        "ht.insert('key4', 'value4')\n",
        "ht.insert('key5', 1)\n",
        "ht.insert('key6', 2)\n",
        "ht.insert('key5', 3)\n",
        "ht.print()"
      ]
    },
    {
      "cell_type": "markdown",
      "id": "2d6da515",
      "metadata": {
        "id": "2d6da515"
      },
      "source": [
        "### Задание 3\n",
        "Расставить на стандартной 64-клеточной шахматной доске 8 ферзей так, чтобы ни один из них не находился под боем другого». Подразумевается, что ферзь бьёт все клетки, расположенные по вертикалям, горизонталям и обеим диагоналям"
      ]
    },
    {
      "cell_type": "code",
      "execution_count": null,
      "id": "6835c748",
      "metadata": {
        "scrolled": true,
        "colab": {
          "base_uri": "https://localhost:8080/"
        },
        "id": "6835c748",
        "outputId": "7e7393cc-1548-4964-c471-0fab1a9b0bc6"
      },
      "outputs": [
        {
          "output_type": "stream",
          "name": "stdout",
          "text": [
            "▢▢▢▢▢▢♛▢\n",
            "♛▢▢▢▢▢▢▢\n",
            "▢▢♛▢▢▢▢▢\n",
            "▢▢▢▢▢▢▢♛\n",
            "▢▢▢▢▢♛▢▢\n",
            "▢▢▢♛▢▢▢▢\n",
            "▢♛▢▢▢▢▢▢\n",
            "▢▢▢▢♛▢▢▢\n"
          ]
        }
      ],
      "source": [
        "class Queen:\n",
        "    def __init__(self, x, y):\n",
        "        self.x = x\n",
        "        self.y = y\n",
        "\n",
        "    def attack(self, queen) -> bool:\n",
        "        return self.x == queen.x or self.y == queen.y or abs(queen.x - self.x) == abs(queen.y - self.y)\n",
        "\n",
        "    def getCoord(self):\n",
        "        return (self.x, self.y)\n",
        "\n",
        "\n",
        "def SolveQueens(boardSize: int, queens: list = None):\n",
        "    if queens is None:\n",
        "        queens = [Queen(0, random.randint(0, boardSize - 1))]\n",
        "\n",
        "    if len(queens) == boardSize:\n",
        "        res = []\n",
        "        for queen in queens:\n",
        "            res.append(queen.getCoord())\n",
        "        return res\n",
        "    else:\n",
        "        row = len(queens)\n",
        "        candidates = [Queen(row, i) for i in range(boardSize)]\n",
        "        for candidate in candidates:\n",
        "            under_attack = False\n",
        "            for queen in queens:\n",
        "                if queen.attack(candidate):\n",
        "                    under_attack = True\n",
        "                    break\n",
        "            if not under_attack:\n",
        "                queens.append(candidate)\n",
        "                result = SolveQueens(boardSize, queens)\n",
        "                if result is not None:\n",
        "                    return result\n",
        "                queens.pop()\n",
        "        return None\n",
        "\n",
        "\n",
        "def Draw(placement):\n",
        "    boardSize = len(placement)\n",
        "    for x in range(boardSize):\n",
        "        for y in range(boardSize):\n",
        "            if (x, y) in placement:\n",
        "                print(\"♛\", end=\"\")\n",
        "            else:\n",
        "                print(\"▢\", end=\"\")\n",
        "        print()\n",
        "\n",
        "\n",
        "Draw(SolveQueens(8))"
      ]
    },
    {
      "cell_type": "markdown",
      "id": "c0870ad8",
      "metadata": {
        "id": "c0870ad8"
      },
      "source": [
        "## Вывод\n",
        "В ходе данной лабораторной работы были реализованы методы поиска элемента в массиве и определены зависимости времени исполнения алгоритма от числа элементов массива, построен график и сводная таблица. Были реализованы три вида хэширования. Была решена задача с расстановкой ферзей на шахматной доске. Проект был загружен на Github: https://github.com/murrashovaa/Structures-and-algorithmes"
      ]
    }
  ],
  "metadata": {
    "kernelspec": {
      "display_name": "Python 3 (ipykernel)",
      "language": "python",
      "name": "python3"
    },
    "language_info": {
      "codemirror_mode": {
        "name": "ipython",
        "version": 3
      },
      "file_extension": ".py",
      "mimetype": "text/x-python",
      "name": "python",
      "nbconvert_exporter": "python",
      "pygments_lexer": "ipython3",
      "version": "3.9.13"
    },
    "colab": {
      "provenance": [],
      "include_colab_link": true
    }
  },
  "nbformat": 4,
  "nbformat_minor": 5
}