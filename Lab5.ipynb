{
  "cells": [
    {
      "cell_type": "markdown",
      "metadata": {
        "id": "view-in-github",
        "colab_type": "text"
      },
      "source": [
        "<a href=\"https://colab.research.google.com/github/murrashovaa/Structures-and-algorithmes/blob/main/Lab5.ipynb\" target=\"_parent\"><img src=\"https://colab.research.google.com/assets/colab-badge.svg\" alt=\"Open In Colab\"/></a>"
      ]
    },
    {
      "cell_type": "markdown",
      "id": "5b210283",
      "metadata": {
        "id": "5b210283"
      },
      "source": [
        "# Лабораторная работа №5\n",
        "## Выполнила студентка группы БСТ2105 Мурашова В.А."
      ]
    },
    {
      "cell_type": "code",
      "execution_count": null,
      "id": "51d85395",
      "metadata": {
        "id": "51d85395"
      },
      "outputs": [],
      "source": [
        "import time\n",
        "from collections import defaultdict\n",
        "import pandas as pd"
      ]
    },
    {
      "cell_type": "markdown",
      "id": "c96b3f22",
      "metadata": {
        "id": "c96b3f22"
      },
      "source": [
        "### Задание №1\n",
        "Реализовать методы поиска подстроки в строке. Добавить возможность ввода строки и подстроки с клавиатуры. Предусмотреть возможность существования пробела. Реализовать возможность выбора опции чувствительности или нечувствительности к регистру. Оценить время работы каждого алгоритма поиска и сравнить его со временем работы стандартной функции поиска, используемой в выбранном языке программирования."
      ]
    },
    {
      "cell_type": "markdown",
      "id": "49c6f72b",
      "metadata": {
        "id": "49c6f72b"
      },
      "source": [
        "### Алгоритм Кнута-Морриса-Пратта"
      ]
    },
    {
      "cell_type": "code",
      "execution_count": null,
      "id": "0d4b359c",
      "metadata": {
        "id": "0d4b359c"
      },
      "outputs": [],
      "source": [
        "def KMP(text: str, pattern: str, ignore_сase=False) -> bool:\n",
        "    if ignore_сase:\n",
        "        text = text.lower()\n",
        "        pattern = pattern.lower()\n",
        "    t = len(text)\n",
        "    p = len(pattern)\n",
        "    if p > t:\n",
        "        return False\n",
        "    # массив содержащий максимальные длины суффиксов для каждого элемента в подстроке\n",
        "    max_suffix = [0]*p\n",
        "    j = 0\n",
        "    for i in range(1, p-1):\n",
        "        if pattern[j] == pattern[i]:\n",
        "            max_suffix[i] = j+1\n",
        "            j += 1\n",
        "        else:\n",
        "            if j == 0:\n",
        "                max_suffix[i] = 0\n",
        "            else:\n",
        "                j = max_suffix[j-1]\n",
        "    i, j = 0, 0 # i - итератор по тексту, j - итератор по подстроке\n",
        "    while i < t:\n",
        "        if text[i] == pattern[j]:\n",
        "            i += 1\n",
        "            j += 1\n",
        "            if j == p:\n",
        "                return True # подстрока найдена\n",
        "        else:\n",
        "            if j > 0:\n",
        "                j = max_suffix[j-1]\n",
        "            else:\n",
        "                i += 1\n",
        "    if i == t and j != p:\n",
        "        return False    "
      ]
    },
    {
      "cell_type": "code",
      "execution_count": null,
      "id": "eda59a0b",
      "metadata": {
        "id": "eda59a0b",
        "outputId": "e54b35ac-f02c-4aa9-9bd7-ba7a9946c0f6"
      },
      "outputs": [
        {
          "name": "stdout",
          "output_type": "stream",
          "text": [
            "Подстрока для поиска: Массив\n",
            "Ингорировать регистр (True/False): false\n",
            "Подстрока найдена\n"
          ]
        }
      ],
      "source": [
        "pattern, options = input(\"Подстрока для поиска: \"), bool(input(\"Ингорировать регистр (True/False): \").title())\n",
        "with open(\"sources/0.txt\", \"r\", encoding=\"utf-8\") as f:\n",
        "    data = f.read()\n",
        "if KMP(data, pattern, options):\n",
        "    print(\"Подстрока найдена\")\n",
        "else:\n",
        "    print(\"Подстрока не найдена\")"
      ]
    },
    {
      "cell_type": "markdown",
      "id": "6bcbb082",
      "metadata": {
        "id": "6bcbb082"
      },
      "source": [
        "### Упрощенный алгоритм Бойера-Мура"
      ]
    },
    {
      "cell_type": "code",
      "execution_count": null,
      "id": "4c2c1036",
      "metadata": {
        "id": "4c2c1036"
      },
      "outputs": [],
      "source": [
        "def BM(text: str, pattern: str, ignore_сase=False) -> bool:\n",
        "    # значение по умолчанию для смещения, если буква отсутствует в паттерне\n",
        "    def default_value():\n",
        "        return len(pattern) \n",
        "    \n",
        "    if ignore_сase:\n",
        "        text = text.lower()\n",
        "        pattern = pattern.lower()\n",
        "    t = len(text)\n",
        "    p = len(pattern)\n",
        "    if p > t:\n",
        "        return False\n",
        "    d = defaultdict(default_value) # словарь смещений\n",
        "    #заполнение словаря смещений\n",
        "    for i in range(p-2, -1, -1):\n",
        "        if pattern[i] not in d:\n",
        "            d[pattern[i]] = p-i-1\n",
        "    if pattern[p-1] not in d:\n",
        "        d[pattern[p-1]] = p\n",
        "    i = p-1 # счетчик проверяемого символа в тексте\n",
        "    while(i < t):\n",
        "        k = 0 # указатель внутри текста k = [0, len(text)-1], охватывает предыдущие символы в тексте\n",
        "        j = 0 # указатель внутри паттерна\n",
        "        mismatch = False\n",
        "        for j in range(p-1, -1, -1): \n",
        "            if text[i-k] != pattern[j]:\n",
        "                if j == p-1:\n",
        "                    offset = d[text[i]] # смещение, если не равен последний символ образа\n",
        "                else:\n",
        "                    offset = d[pattern[j]] # смещение, если не равен не последний символ образа\n",
        "                i += offset # смещение счетчика строки\n",
        "                mismatch = True # если несовпадение символа, то mismatch = True\n",
        "                break\n",
        "            k += 1\n",
        "        if not mismatch:\n",
        "            return True\n",
        "    return False"
      ]
    },
    {
      "cell_type": "code",
      "execution_count": null,
      "id": "b94cbe30",
      "metadata": {
        "scrolled": true,
        "id": "b94cbe30",
        "outputId": "c6f552ad-4ed3-41ca-8531-04208f6e6bb9"
      },
      "outputs": [
        {
          "name": "stdout",
          "output_type": "stream",
          "text": [
            "Подстрока для поиска: qw\n",
            "Ингорировать регистр (True/False): qw\n",
            "Подстрока не найдена\n"
          ]
        }
      ],
      "source": [
        "pattern, options = input(\"Подстрока для поиска: \"), bool(input(\"Ингорировать регистр (True/False): \").title())\n",
        "with open(\"sources/0.txt\", \"r\", encoding=\"utf-8\") as f:\n",
        "    data = f.read()\n",
        "if BM(data, pattern, options):\n",
        "    print(\"Подстрока найдена\")\n",
        "else:\n",
        "    print(\"Подстрока не найдена\")"
      ]
    },
    {
      "cell_type": "code",
      "execution_count": null,
      "id": "6c301a9a",
      "metadata": {
        "id": "6c301a9a"
      },
      "outputs": [],
      "source": [
        "texts = []\n",
        "elems = []\n",
        "for i in range(6):\n",
        "    with open(f\"sources/{i}.txt\", \"r\", encoding=\"ansi\") as f:\n",
        "        texts.append(f.read())\n",
        "KMP_time, BM_time, Python_time = [], [], []\n",
        "for text in texts:\n",
        "    elems.append(len(text))\n",
        "    start = time.perf_counter()\n",
        "    KMP(text, \"простипрощайпривет\")\n",
        "    end = time.perf_counter()\n",
        "    KMP_time.append(end-start)\n",
        "    start = time.perf_counter()\n",
        "    BM(text, \"простипрощайпривет\")\n",
        "    end = time.perf_counter()\n",
        "    BM_time.append(end-start)\n",
        "    start = time.perf_counter()\n",
        "    text.find(\"простипрощайпривет\")\n",
        "    end = time.perf_counter()\n",
        "    Python_time.append(end-start)"
      ]
    },
    {
      "cell_type": "code",
      "execution_count": null,
      "id": "e97dbbcc",
      "metadata": {
        "id": "e97dbbcc",
        "outputId": "ff59a950-ecb9-41f2-f385-51bbf641c3e3"
      },
      "outputs": [
        {
          "data": {
            "text/html": [
              "<div>\n",
              "<style scoped>\n",
              "    .dataframe tbody tr th:only-of-type {\n",
              "        vertical-align: middle;\n",
              "    }\n",
              "\n",
              "    .dataframe tbody tr th {\n",
              "        vertical-align: top;\n",
              "    }\n",
              "\n",
              "    .dataframe thead th {\n",
              "        text-align: right;\n",
              "    }\n",
              "</style>\n",
              "<table border=\"1\" class=\"dataframe\">\n",
              "  <thead>\n",
              "    <tr style=\"text-align: right;\">\n",
              "      <th></th>\n",
              "      <th>Кнутт-Моррис-Пратт</th>\n",
              "      <th>Бойер-Мур</th>\n",
              "      <th>Python</th>\n",
              "    </tr>\n",
              "    <tr>\n",
              "      <th>Длина текста</th>\n",
              "      <th></th>\n",
              "      <th></th>\n",
              "      <th></th>\n",
              "    </tr>\n",
              "  </thead>\n",
              "  <tbody>\n",
              "    <tr>\n",
              "      <th>1431</th>\n",
              "      <td>0.000445</td>\n",
              "      <td>0.000103</td>\n",
              "      <td>0.000017</td>\n",
              "    </tr>\n",
              "    <tr>\n",
              "      <th>348652</th>\n",
              "      <td>0.117486</td>\n",
              "      <td>0.029662</td>\n",
              "      <td>0.000234</td>\n",
              "    </tr>\n",
              "    <tr>\n",
              "      <th>384041</th>\n",
              "      <td>0.129843</td>\n",
              "      <td>0.030884</td>\n",
              "      <td>0.000287</td>\n",
              "    </tr>\n",
              "    <tr>\n",
              "      <th>445014</th>\n",
              "      <td>0.153036</td>\n",
              "      <td>0.038311</td>\n",
              "      <td>0.000296</td>\n",
              "    </tr>\n",
              "    <tr>\n",
              "      <th>1308910</th>\n",
              "      <td>0.428992</td>\n",
              "      <td>0.075464</td>\n",
              "      <td>0.000904</td>\n",
              "    </tr>\n",
              "    <tr>\n",
              "      <th>1527944</th>\n",
              "      <td>0.520256</td>\n",
              "      <td>0.125205</td>\n",
              "      <td>0.001114</td>\n",
              "    </tr>\n",
              "  </tbody>\n",
              "</table>\n",
              "</div>"
            ],
            "text/plain": [
              "              Кнутт-Моррис-Пратт  Бойер-Мур    Python\n",
              "Длина текста                                         \n",
              "1431                    0.000445   0.000103  0.000017\n",
              "348652                  0.117486   0.029662  0.000234\n",
              "384041                  0.129843   0.030884  0.000287\n",
              "445014                  0.153036   0.038311  0.000296\n",
              "1308910                 0.428992   0.075464  0.000904\n",
              "1527944                 0.520256   0.125205  0.001114"
            ]
          },
          "execution_count": 20,
          "metadata": {},
          "output_type": "execute_result"
        }
      ],
      "source": [
        "df = pd.DataFrame({'Длина текста': [elems[i] for i in range(6)],\n",
        "                   'Кнутт-Моррис-Пратт': [KMP_time[i] for i in range(6)],\n",
        "                   'Бойер-Мур': [BM_time[i] for i in range(6)],\n",
        "                   'Python': [Python_time[i] for i in range(6)]}).round(6)\n",
        "\n",
        "df.set_index('Длина текста')"
      ]
    },
    {
      "cell_type": "markdown",
      "id": "e10aeb88",
      "metadata": {
        "id": "e10aeb88"
      },
      "source": [
        "### Задание №2\n",
        "Написать программу, определяющую, является ли данное\n",
        "расположение «решаемым», то есть можно ли из него за конечное число\n",
        "шагов перейти к правильному. Если это возможно, то необходимо найти хотя\n",
        "бы одно решение - последовательность движений, после которой числа будут\n",
        "расположены в правильном порядке.\n",
        "#### Входные данные: массив чисел, представляющий собой расстановку в\n",
        "Порядке «слева направо, сверху вниз». Число 0 обозначает пустое поле.\n",
        "Например, массив [1, 2, 3, 4, 5, 6, 7, 8, 9, 10, 11, 12, 13, 14, 15, 0] представляет\n",
        "собой «решенную» позицию элементов.\n",
        "#### Выходные данные: если решения нет, то функция должна вернуть\n",
        "Пустой массив []. Если решение есть, то необходимо представить решение —\n",
        "для каждого шага записывается номер передвигаемого на данном шаге\n",
        "элемента. "
      ]
    },
    {
      "cell_type": "code",
      "execution_count": null,
      "id": "9887dbac",
      "metadata": {
        "id": "9887dbac"
      },
      "outputs": [],
      "source": [
        "from queue import PriorityQueue\n",
        "\n",
        "N = 4\n",
        "\n",
        "def moves(position):\n",
        "    blank = position.index(0)\n",
        "    i, j = divmod(blank, N)\n",
        "    offsets = []\n",
        "    if i > 0: offsets.append(-N)     # вниз\n",
        "    if i < N - 1: offsets.append(N)  # вверх\n",
        "    if j > 0: offsets.append(-1)     # вправо\n",
        "    if j < N - 1: offsets.append(1)  # влево\n",
        "    for offset in offsets:\n",
        "        swap = blank + offset\n",
        "        yield tuple(position[swap] if x==blank else position[blank] if x==swap else position[x] for x in range(N*N))\n",
        "\n",
        "\n",
        "def parity(permutation):\n",
        "    seen, cycles = set(), 0\n",
        "    for i in permutation:\n",
        "        if i not in seen:\n",
        "            cycles += 1\n",
        "            while i not in seen:\n",
        "                seen.add(i)\n",
        "                i = permutation[i]\n",
        "    return (cycles + len(permutation)) % 2\n",
        "\n",
        "\n",
        "class Position:\n",
        "    def __init__(self, position, start_distance):\n",
        "        self.position = position\n",
        "        self.start_distance = start_distance\n",
        "\n",
        "    def __lt__(self, other):\n",
        "        return self.start_distance < other.start_distance\n",
        "\n",
        "    def __str__(self):\n",
        "        return '\\n'.join((N*'{:3}').format(*[i%(N*N) for i in self.position[i:]]) for i in range(0, N*N, N))\n",
        "\n",
        "SOLVED = (1, 2, 3, 4, 5, 6, 7, 8, 9, 10, 11, 12, 13, 14, 15, 0)\n",
        "\n",
        "start = [15, 2, 1, 12, 8, 5, 6, 11, 4, 9, 10, 7, 3, 14, 13, 0]\n",
        "\n",
        "if parity(start) == 0:\n",
        "    print('Нерешаемо')\n",
        "else:\n",
        "    start = tuple(start)\n",
        "\n",
        "    p = Position(start, 0)\n",
        "\n",
        "    print(p)\n",
        "    print()\n",
        "\n",
        "    candidates = PriorityQueue()\n",
        "    candidates.put(p)\n",
        "\n",
        "    visited = set([p])\n",
        "\n",
        "    came_from = {p.position: None}\n",
        "    \n",
        "    while p.position != SOLVED:\n",
        "        p = candidates.get()\n",
        "        for k in moves(p.position):\n",
        "            if k not in visited:\n",
        "                candidates.put(Position(k, p.start_distance + 1))\n",
        "                came_from[k] = p\n",
        "                visited.add(k)\n",
        "\n",
        "    path = []\n",
        "    prev = p\n",
        "    while p.position != start:\n",
        "        p = came_from[p.position]\n",
        "        number = p.position[prev.position.index(0)]\n",
        "        path.append(number)\n",
        "        prev = p\n",
        "    path.reverse()\n",
        "\n",
        "    print(path)"
      ]
    },
    {
      "cell_type": "markdown",
      "source": [
        "### Вывод\n",
        "\n",
        "В ходе выполнения данной лабораторной работы были реализованы методы поиска подстроки в строке. Была добавлена возможность ввода строки и подстроки с клавиатуры. Была предусмотрена возможность существования пробела. Была реализована возможность выбора опции чувствительности или нечувствительности к регистру. Было оценено время работы каждого алгоритма поиска и его сравнение со временем работы стандартной функции поиска, используемой в выбранном языке программирования. Проект был загружен на Github: https://github.com/murrashovaa/Structures-and-algorithmes"
      ],
      "metadata": {
        "id": "Naw6E4cfSiNt"
      },
      "id": "Naw6E4cfSiNt"
    }
  ],
  "metadata": {
    "kernelspec": {
      "display_name": "Python 3 (ipykernel)",
      "language": "python",
      "name": "python3"
    },
    "language_info": {
      "codemirror_mode": {
        "name": "ipython",
        "version": 3
      },
      "file_extension": ".py",
      "mimetype": "text/x-python",
      "name": "python",
      "nbconvert_exporter": "python",
      "pygments_lexer": "ipython3",
      "version": "3.9.13"
    },
    "colab": {
      "provenance": [],
      "include_colab_link": true
    }
  },
  "nbformat": 4,
  "nbformat_minor": 5
}